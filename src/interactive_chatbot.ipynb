{
 "cells": [
  {
   "cell_type": "code",
   "execution_count": 2,
   "id": "e57bb48b-f511-4119-a781-0eae581cbf4e",
   "metadata": {},
   "outputs": [],
   "source": [
    "import json\n",
    "import os\n",
    "import sys\n"
   ]
  },
  {
   "cell_type": "code",
   "execution_count": 3,
   "id": "7a66556f-9b58-4d4a-8512-877ea46fae93",
   "metadata": {},
   "outputs": [],
   "source": [
    "src_path = os.path.abspath(os.path.join('../'))\n",
    "if src_path not in sys.path:\n",
    "    sys.path.append(src_path)\n",
    "    print(src_path)\n",
    "\n",
    "from src.chatbot.chatbots import Chatbot"
   ]
  },
  {
   "cell_type": "code",
   "execution_count": 4,
   "id": "28870383-c568-4efa-9ac3-6cc2ed992ffe",
   "metadata": {},
   "outputs": [],
   "source": [
    "ABSOLUTE_PATH = os.path.abspath('')\n",
    "RESOURCES_PATH = ABSOLUTE_PATH + \"/../resources/\"\n",
    "THOUGHTS_FILE = RESOURCES_PATH + \"thoughts.json\"\n",
    "SPEAKER = \"Selene\""
   ]
  },
  {
   "cell_type": "code",
   "execution_count": 5,
   "id": "0aeae571-bb68-4852-85f0-063685a2f138",
   "metadata": {},
   "outputs": [
    {
     "data": {
      "text/plain": [
       "'/Users/selbaez/Documents/PhD/research/thought-selection/src/../resources/'"
      ]
     },
     "execution_count": 5,
     "metadata": {},
     "output_type": "execute_result"
    }
   ],
   "source": [
    "RESOURCES_PATH"
   ]
  },
  {
   "cell_type": "code",
   "execution_count": 6,
   "id": "f0be4886-e3d5-4734-9249-4184f1053b0d",
   "metadata": {},
   "outputs": [
    {
     "name": "stderr",
     "output_type": "stream",
     "text": [
      "2022-02-28 00:04:42 -     INFO -                                    cltl.brain.LongTermMemory - Booted\n",
      "2022-02-28 00:04:42 -     INFO -                                  cltl.brain.ThoughtGenerator - Booted\n",
      "2022-02-28 00:04:42 -     INFO -                                  cltl.brain.LocationReasoner - Booted\n",
      "2022-02-28 00:04:42 -     INFO -                                      cltl.brain.TypeReasoner - Booted\n",
      "2022-02-28 00:04:42 -     INFO -                                   cltl.brain.TrustCalculator - Booted\n",
      "2022-02-28 00:04:49 -     INFO -                                   cltl.brain.TrustCalculator - Computed trust for all known agents\n",
      "2022-02-28 00:04:49 -     INFO -                              cltl.reply_generation.RLReplier - Booted\n"
     ]
    },
    {
     "name": "stdout",
     "output_type": "stream",
     "text": [
      "\n",
      "Bot: What's going on? Would you like to chat? I'll do my best to keep up\n"
     ]
    }
   ],
   "source": [
    "capsule_history = []\n",
    "chatbot = Chatbot(SPEAKER, \"RL\", THOUGHTS_FILE)\n",
    "print(\"\\nBot:\", chatbot.greet)"
   ]
  },
  {
   "cell_type": "code",
   "execution_count": 7,
   "id": "fc4bf90b-3d06-43f4-85e7-b1c71c8e65f0",
   "metadata": {},
   "outputs": [],
   "source": [
    "capsule = {\n",
    "    \"chat\": 1,\n",
    "    \"turn\": 1,\n",
    "    \"author\": SPEAKER,\n",
    "    \"utterance\": \"I need to take my laptop, but I cannot find it.\",\n",
    "    \"utterance_type\": \"STATEMENT\",\n",
    "    \"position\": \"0-25\",\n",
    "    \"subject\": {\n",
    "        \"label\": \"selene\",\n",
    "        \"type\": [\n",
    "            \"person\"\n",
    "        ],\n",
    "        \"uri\": \"http://cltl.nl/leolani/world/selene\"\n",
    "    },\n",
    "    \"predicate\": {\n",
    "        \"label\": \"see\",\n",
    "        \"uri\": \"http://cltl.nl/leolani/n2mu/see\"\n",
    "    },\n",
    "    \"object\": {\n",
    "        \"label\": \"laptop\",\n",
    "        \"type\": [\n",
    "            \"object\",\n",
    "            \"computer\"\n",
    "        ],\n",
    "        \"uri\": \"http://cltl.nl/leolani/world/laptop\"\n",
    "    },\n",
    "    \"perspective\": {\n",
    "        \"certainty\": 1,\n",
    "        \"polarity\": -1,\n",
    "        \"sentiment\": -1\n",
    "    },\n",
    "    \"context_id\": 170,\n",
    "    \"date\": \"2021-03-12\",\n",
    "    \"place\": \"office\",\n",
    "    \"place_id\": 98,\n",
    "    \"country\": \"NL\",\n",
    "    \"region\": \"North Holland\",\n",
    "    \"city\": \"Amsterdam\",\n",
    "    \"objects\": [],\n",
    "    \"people\": []\n",
    "}\n"
   ]
  },
  {
   "cell_type": "markdown",
   "id": "0c7277b7-9b87-4979-ae9c-92c702122a53",
   "metadata": {},
   "source": [
    "## Begin the interaction"
   ]
  },
  {
   "cell_type": "code",
   "execution_count": 8,
   "id": "dc6ec4ad-6531-43bd-aea0-b865e6507eaa",
   "metadata": {},
   "outputs": [
    {
     "name": "stderr",
     "output_type": "stream",
     "text": [
      "2022-02-28 00:04:58 -     INFO -                                    cltl.brain.LongTermMemory - Triple in statement: selene_see_laptop [person_->_object or computer])\n",
      "2022-02-28 00:04:58 -     INFO -                                  cltl.brain.ThoughtGenerator - Statement Novelty: 1 times, e.g. selene on March,2021\n",
      "2022-02-28 00:04:59 -     INFO -                                  cltl.brain.ThoughtGenerator - Gaps: 45 gaps as subject: e.g. play interest-occurrence - 36 gaps as object: e.g. favorite-of agent\n",
      "2022-02-28 00:04:59 -     INFO -                                  cltl.brain.ThoughtGenerator - Gaps: 0 gaps as subject: e.g. '' - 2 gaps as object: e.g. own person\n",
      "2022-02-28 00:04:59 -     INFO -                              cltl.reply_generation.RLReplier - Brain state: 36.0\n",
      "2022-02-28 00:04:59 -     INFO -                              cltl.reply_generation.RLReplier - Chosen thought type: _subject_gaps\n"
     ]
    },
    {
     "ename": "AttributeError",
     "evalue": "'dict' object has no attribute 'complement_conflicts'",
     "output_type": "error",
     "traceback": [
      "\u001B[0;31m---------------------------------------------------------------------------\u001B[0m",
      "\u001B[0;31mAttributeError\u001B[0m                            Traceback (most recent call last)",
      "\u001B[0;32m/var/folders/k1/bs53rbv901qc_hqgfx1cqm5c0000gn/T/ipykernel_36329/1187900049.py\u001B[0m in \u001B[0;36m<module>\u001B[0;34m\u001B[0m\n\u001B[0;32m----> 1\u001B[0;31m \u001B[0msay\u001B[0m\u001B[0;34m,\u001B[0m \u001B[0mcapsule_user\u001B[0m\u001B[0;34m,\u001B[0m \u001B[0mbrain_response\u001B[0m \u001B[0;34m=\u001B[0m \u001B[0mchatbot\u001B[0m\u001B[0;34m.\u001B[0m\u001B[0mrespond\u001B[0m\u001B[0;34m(\u001B[0m\u001B[0mcapsule\u001B[0m\u001B[0;34m)\u001B[0m\u001B[0;34m\u001B[0m\u001B[0;34m\u001B[0m\u001B[0m\n\u001B[0m\u001B[1;32m      2\u001B[0m \u001B[0mcapsule_history\u001B[0m\u001B[0;34m.\u001B[0m\u001B[0mappend\u001B[0m\u001B[0;34m(\u001B[0m\u001B[0mcapsule\u001B[0m\u001B[0;34m)\u001B[0m\u001B[0;34m\u001B[0m\u001B[0;34m\u001B[0m\u001B[0m\n",
      "\u001B[0;32m~/Documents/PhD/research/thought-selection/src/chatbot/chatbots.py\u001B[0m in \u001B[0;36mrespond\u001B[0;34m(self, capsule, return_br)\u001B[0m\n\u001B[1;32m    186\u001B[0m \u001B[0;34m\u001B[0m\u001B[0m\n\u001B[1;32m    187\u001B[0m             \u001B[0msay\u001B[0m\u001B[0;34m,\u001B[0m \u001B[0mcapsule_user\u001B[0m \u001B[0;34m=\u001B[0m \u001B[0mself\u001B[0m\u001B[0;34m.\u001B[0m\u001B[0m_select_rl_thought\u001B[0m\u001B[0;34m(\u001B[0m\u001B[0mbrain_response\u001B[0m\u001B[0;34m)\u001B[0m\u001B[0;34m\u001B[0m\u001B[0;34m\u001B[0m\u001B[0m\n\u001B[0;32m--> 188\u001B[0;31m             \u001B[0mself\u001B[0m\u001B[0;34m.\u001B[0m\u001B[0m_score_brain\u001B[0m\u001B[0;34m(\u001B[0m\u001B[0mbrain_response\u001B[0m\u001B[0;34m)\u001B[0m\u001B[0;34m\u001B[0m\u001B[0;34m\u001B[0m\u001B[0m\n\u001B[0m\u001B[1;32m    189\u001B[0m \u001B[0;34m\u001B[0m\u001B[0m\n\u001B[1;32m    190\u001B[0m             \u001B[0mcapsule_user\u001B[0m\u001B[0;34m[\u001B[0m\u001B[0;34m'turn'\u001B[0m\u001B[0;34m]\u001B[0m \u001B[0;34m=\u001B[0m \u001B[0mself\u001B[0m\u001B[0;34m.\u001B[0m\u001B[0m__turns\u001B[0m \u001B[0;34m+\u001B[0m \u001B[0;36m1\u001B[0m\u001B[0;34m\u001B[0m\u001B[0;34m\u001B[0m\u001B[0m\n",
      "\u001B[0;32m~/Documents/PhD/research/thought-selection/src/chatbot/chatbots.py\u001B[0m in \u001B[0;36m_score_brain\u001B[0;34m(self, brain_response)\u001B[0m\n\u001B[1;32m    123\u001B[0m         stats = {\n\u001B[1;32m    124\u001B[0m             \u001B[0;34m'turn'\u001B[0m\u001B[0;34m:\u001B[0m \u001B[0mbrain_response\u001B[0m\u001B[0;34m[\u001B[0m\u001B[0;34m'statement'\u001B[0m\u001B[0;34m]\u001B[0m\u001B[0;34m[\u001B[0m\u001B[0;34m'turn'\u001B[0m\u001B[0;34m]\u001B[0m\u001B[0;34m,\u001B[0m\u001B[0;34m\u001B[0m\u001B[0;34m\u001B[0m\u001B[0m\n\u001B[0;32m--> 125\u001B[0;31m             \u001B[0;34m'cardinality conflicts'\u001B[0m\u001B[0;34m:\u001B[0m \u001B[0mlen\u001B[0m\u001B[0;34m(\u001B[0m\u001B[0mthoughts\u001B[0m\u001B[0;34m.\u001B[0m\u001B[0mcomplement_conflicts\u001B[0m\u001B[0;34m(\u001B[0m\u001B[0;34m)\u001B[0m\u001B[0;34m)\u001B[0m\u001B[0;34m,\u001B[0m\u001B[0;34m\u001B[0m\u001B[0;34m\u001B[0m\u001B[0m\n\u001B[0m\u001B[1;32m    126\u001B[0m             \u001B[0;34m'negation conflicts'\u001B[0m\u001B[0;34m:\u001B[0m \u001B[0mlen\u001B[0m\u001B[0;34m(\u001B[0m\u001B[0mthoughts\u001B[0m\u001B[0;34m.\u001B[0m\u001B[0mnegation_conflicts\u001B[0m\u001B[0;34m(\u001B[0m\u001B[0;34m)\u001B[0m\u001B[0;34m)\u001B[0m\u001B[0;34m,\u001B[0m\u001B[0;34m\u001B[0m\u001B[0;34m\u001B[0m\u001B[0m\n\u001B[1;32m    127\u001B[0m             \u001B[0;34m'subject gaps'\u001B[0m\u001B[0;34m:\u001B[0m \u001B[0mlen\u001B[0m\u001B[0;34m(\u001B[0m\u001B[0mthoughts\u001B[0m\u001B[0;34m.\u001B[0m\u001B[0msubject_gaps\u001B[0m\u001B[0;34m(\u001B[0m\u001B[0;34m)\u001B[0m\u001B[0;34m)\u001B[0m\u001B[0;34m,\u001B[0m\u001B[0;34m\u001B[0m\u001B[0;34m\u001B[0m\u001B[0m\n",
      "\u001B[0;31mAttributeError\u001B[0m: 'dict' object has no attribute 'complement_conflicts'"
     ]
    }
   ],
   "source": [
    "say, capsule_user, brain_response = chatbot.respond(capsule)\n",
    "capsule_history.append(capsule)"
   ]
  },
  {
   "cell_type": "code",
   "execution_count": 16,
   "id": "afc19b15-f267-4cbe-82da-3e4894556d5f",
   "metadata": {},
   "outputs": [
    {
     "name": "stdout",
     "output_type": "stream",
     "text": [
      "\n",
      "Bot: I do not believe you.\n",
      "\n",
      "Selene desired: {\n",
      "  \"chat\": 1,\n",
      "  \"turn\": 3,\n",
      "  \"author\": \"Selene\",\n",
      "  \"utterance\": \"\",\n",
      "  \"utterance_type\": \"STATEMENT\",\n",
      "  \"position\": \"\",\n",
      "  \"subject\": {\n",
      "    \"label\": \"selene\",\n",
      "    \"type\": [],\n",
      "    \"uri\": null\n",
      "  },\n",
      "  \"predicate\": {\n",
      "    \"label\": \"trust\",\n",
      "    \"uri\": \"http://cltl.nl/leolani/n2mu/trust\"\n",
      "  },\n",
      "  \"object\": {\n",
      "    \"label\": null,\n",
      "    \"type\": [],\n",
      "    \"uri\": null\n",
      "  },\n",
      "  \"perspective\": {\n",
      "    \"certainty\": null,\n",
      "    \"polarity\": null,\n",
      "    \"sentiment\": null\n",
      "  },\n",
      "  \"context_id\": 170,\n",
      "  \"date\": \"2021-03-12\",\n",
      "  \"place\": \"office\",\n",
      "  \"place_id\": 98,\n",
      "  \"country\": \"NL\",\n",
      "  \"region\": \"North Holland\",\n",
      "  \"city\": \"Amsterdam\",\n",
      "  \"objects\": [],\n",
      "  \"people\": []\n",
      "}\n"
     ]
    }
   ],
   "source": [
    "print(\"\\nBot:\", say)\n",
    "print(f\"\\n{SPEAKER} desired:\", json.dumps(capsule_user, indent=2))"
   ]
  },
  {
   "cell_type": "code",
   "execution_count": 12,
   "id": "da67e2af-8353-469e-8743-c3d93bbaa45d",
   "metadata": {},
   "outputs": [],
   "source": [
    "capsule = {\n",
    "    \"chat\": 1,\n",
    "    \"turn\": 3,\n",
    "    \"author\": \"Selene\",\n",
    "    \"utterance\": \"\",\n",
    "    \"utterance_type\": \"STATEMENT\",\n",
    "    \"position\": \"\",\n",
    "    \"subject\": {\n",
    "        \"label\": \"selene\",\n",
    "        \"type\": [],\n",
    "        \"uri\": null\n",
    "    },\n",
    "    \"predicate\": {\n",
    "        \"label\": \"trust\",\n",
    "        \"uri\": \"http://cltl.nl/leolani/n2mu/trust\"\n",
    "    },\n",
    "    \"object\": {\n",
    "        \"label\": null,\n",
    "        \"type\": [],\n",
    "        \"uri\": null\n",
    "    },\n",
    "    \"perspective\": {\n",
    "        \"certainty\": null,\n",
    "        \"polarity\": null,\n",
    "        \"sentiment\": null\n",
    "    },\n",
    "    \"context_id\": 170,\n",
    "    \"date\": \"2021-03-12\",\n",
    "    \"place\": \"office\",\n",
    "    \"place_id\": 98,\n",
    "    \"country\": \"NL\",\n",
    "    \"region\": \"North Holland\",\n",
    "    \"city\": \"Amsterdam\",\n",
    "    \"objects\": [],\n",
    "    \"people\": []\n",
    "}"
   ]
  },
  {
   "cell_type": "code",
   "execution_count": 13,
   "id": "5e0ee9ed-fa0e-4b96-922f-f251d3a00ff5",
   "metadata": {},
   "outputs": [
    {
     "data": {
      "text/plain": [
       "[34.0]"
      ]
     },
     "execution_count": 13,
     "metadata": {},
     "output_type": "execute_result"
    }
   ],
   "source": [
    "chatbot.replier._RLReplier__brain_states"
   ]
  },
  {
   "cell_type": "code",
   "execution_count": null,
   "id": "b6d3b058",
   "metadata": {
    "pycharm": {
     "name": "#%%\n"
    }
   },
   "outputs": [],
   "source": [
    "chatbot.__brain_stats"
   ]
  },
  {
   "cell_type": "code",
   "execution_count": 14,
   "id": "80d6958e-062e-46db-b093-9b7566d65e89",
   "metadata": {},
   "outputs": [
    {
     "data": {
      "text/plain": [
       "[{'chat': 1,\n",
       "  'turn': 1,\n",
       "  'author': 'selene',\n",
       "  'utterance': 'I need to take my laptop, but I cannot find it.',\n",
       "  'utterance_type': <UtteranceType.STATEMENT: '0'>,\n",
       "  'position': '0-25',\n",
       "  'subject': {'label': 'selene',\n",
       "   'type': ['person'],\n",
       "   'uri': 'http://cltl.nl/leolani/world/selene'},\n",
       "  'predicate': {'label': 'see', 'uri': 'http://cltl.nl/leolani/n2mu/see'},\n",
       "  'object': {'label': 'laptop',\n",
       "   'type': ['object', 'computer'],\n",
       "   'uri': 'http://cltl.nl/leolani/world/laptop'},\n",
       "  'perspective': <cltl.brain.infrastructure.api.Perspective at 0x7f9c74b4cc50>,\n",
       "  'context_id': 170,\n",
       "  'date': datetime.date(2021, 3, 12),\n",
       "  'place': 'office',\n",
       "  'place_id': 98,\n",
       "  'country': 'NL',\n",
       "  'region': 'North Holland',\n",
       "  'city': 'Amsterdam',\n",
       "  'objects': [],\n",
       "  'people': [],\n",
       "  'triple': selene_see_laptop [person_->_object or computer])}]"
      ]
     },
     "execution_count": 14,
     "metadata": {},
     "output_type": "execute_result"
    }
   ],
   "source": [
    "capsule_history"
   ]
  },
  {
   "cell_type": "code",
   "execution_count": null,
   "id": "e453f623-b350-4da5-b0f5-6077704a87e2",
   "metadata": {},
   "outputs": [],
   "source": []
  }
 ],
 "metadata": {
  "kernelspec": {
   "display_name": "thought-selection",
   "language": "python",
   "name": "thought-selection"
  },
  "language_info": {
   "codemirror_mode": {
    "name": "ipython",
    "version": 3
   },
   "file_extension": ".py",
   "mimetype": "text/x-python",
   "name": "python",
   "nbconvert_exporter": "python",
   "pygments_lexer": "ipython3",
   "version": "3.7.11"
  },
  "toc-autonumbering": false
 },
 "nbformat": 4,
 "nbformat_minor": 5
}