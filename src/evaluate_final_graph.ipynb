{
 "cells": [
  {
   "cell_type": "markdown",
   "source": [
    "# Results analysis"
   ],
   "metadata": {
    "collapsed": false
   }
  },
  {
   "cell_type": "code",
   "execution_count": 1,
   "outputs": [
    {
     "name": "stderr",
     "output_type": "stream",
     "text": [
      "UsageError: Line magic function `%` not found.\n"
     ]
    }
   ],
   "source": [
    "import json\n",
    "from pathlib import Path\n",
    "from shutil import copy\n",
    "\n",
    "import matplotlib.pyplot as plt\n",
    "import pandas as pd\n",
    "import plotly.graph_objects as go\n",
    "import seaborn as sns\n",
    "from cltl.dialogue_evaluation.graph_evaluation import GraphEvaluator\n",
    "from cltl.dialogue_evaluation.metrics.brain_measures import *\n",
    "from cltl.dialogue_evaluation.metrics.graph_measures import *\n",
    "from rdflib import ConjunctiveGraph\n",
    "from rdflib.extras.external_graph_libs import rdflib_to_networkx_multidigraph\n",
    "from sklearn.preprocessing import MinMaxScaler  #, StandardScaler, MaxAbsScaler\n",
    "\n",
    "\n",
    "% matplotlib inline"
   ],
   "metadata": {
    "collapsed": false
   }
  },
  {
   "cell_type": "code",
   "execution_count": 4,
   "outputs": [],
   "source": [
    "ABSOLUTE_PATH = '.'\n",
    "DATA_FOLDER = ABSOLUTE_PATH + f'/../resources/'\n",
    "\n",
    "RDF_FOLDERS = [\n",
    "    Path(f'../resources/pilot/Total-triples_2_tae/2022-03-07-17-20/').resolve(),\n",
    "    Path(f'../resources/pilot/Ratio-conflicts-to-triples_2_thomas/2022-03-07-14-25/').resolve(),\n",
    "    Path(f'../resources/pilot/Ratio-conflicts-to-statements_2_lea/2022-03-07-14-25/').resolve(),\n",
    "    Path(f'../resources/pilot/Ratio-perspectives-to-statements_2_piek/2022-03-07-15-17/').resolve()\n",
    "]\n",
    "\n",
    "SCENARIOS_FOLDER = Path(f'../resources/pilot/').resolve()\n",
    "\n",
    "CONVO_IDS = ['Total-triples', 'Ratio-conflicts-to-triples',\n",
    "             'Ratio-conflicts-to-statements', 'Ratio-perspectives-to-statements']\n",
    "\n",
    "THOUGHT_TYPES = ['complement_conflict', 'negation_conflict',\n",
    "                 'subject_gap', 'object_gap',\n",
    "                 'no_statement_novelty', 'statement_novelty', 'entity_novelty', 'overlap']\n",
    "\n",
    "METRICS = ['Average degree', 'Shortest path', 'Sparseness',\n",
    "           'Average degree centrality', 'Number of strong components']\n"
   ],
   "metadata": {
    "collapsed": false
   }
  },
  {
   "cell_type": "markdown",
   "source": [
    "## Automatic evaluation"
   ],
   "metadata": {
    "collapsed": false
   }
  },
  {
   "cell_type": "markdown",
   "source": [
    "### Evaluate all scenarios individually"
   ],
   "metadata": {
    "collapsed": false
   }
  },
  {
   "cell_type": "code",
   "execution_count": 5,
   "outputs": [
    {
     "name": "stdout",
     "output_type": "stream",
     "text": [
      "/Users/sbaez/Documents/PhD/research/thought-selection/resources/pilot/Total-triples_1_lea\n",
      "   Mention ID  Turn Speaker                     Response  \\\n",
      "0           0     0     lea   I'm doing well, thank you.   \n",
      "1           1     1     lea  I like going to the cinema.   \n",
      "2           2     2     lea        I don't own a cinema.   \n",
      "3           3     3     lea      I ate sour candy today.   \n",
      "4           4     4     lea   I recently read Jane Eyre.   \n",
      "\n",
      "                                            rdf_file  \n",
      "0  [brain_log_2022-03-04-14-23-26.trig, brain_log...  \n",
      "1               [brain_log_2022-03-04-14-24-17.trig]  \n",
      "2               [brain_log_2022-03-04-14-28-07.trig]  \n",
      "3               [brain_log_2022-03-04-14-29-15.trig]  \n",
      "4               [brain_log_2022-03-04-14-30-14.trig]  \n",
      "/Users/sbaez/Documents/PhD/research/thought-selection/resources/pilot/Total-triples_2_tae\n",
      "   Mention ID  Turn Speaker                              Response  \\\n",
      "0           0     0     tae               Russia invaded Ukraine.   \n",
      "1           1     1     tae             Putin was born in Russia.   \n",
      "2           2     2     tae  Some communists were born in Russia.   \n",
      "3           3     3     tae                  Moscow is in Russia.   \n",
      "4           4     4     tae                 Vodka is from Moscow.   \n",
      "\n",
      "                                            rdf_file  \n",
      "0  [brain_log_2022-03-07-17-21-52.trig, brain_log...  \n",
      "1               [brain_log_2022-03-07-17-22-11.trig]  \n",
      "2               [brain_log_2022-03-07-17-23-13.trig]  \n",
      "3               [brain_log_2022-03-07-17-23-30.trig]  \n",
      "4               [brain_log_2022-03-07-17-23-59.trig]  \n",
      "/Users/sbaez/Documents/PhD/research/thought-selection/resources/pilot/Ratio-conflicts-to-triples_1_piek\n",
      "   Mention ID  Turn Speaker               Response  \\\n",
      "0           0     0    piek             I know you   \n",
      "1           1     1    piek          I know Selene   \n",
      "2           2     2    piek         I like bananas   \n",
      "3           3     3    piek         I trust Selene   \n",
      "4           4     4    piek  Leolani trusts Selene   \n",
      "\n",
      "                                            rdf_file  \n",
      "0  [brain_log_2022-03-04-14-48-50.trig, brain_log...  \n",
      "1               [brain_log_2022-03-04-14-49-19.trig]  \n",
      "2               [brain_log_2022-03-04-14-50-04.trig]  \n",
      "3               [brain_log_2022-03-04-14-50-47.trig]  \n",
      "4               [brain_log_2022-03-04-14-51-42.trig]  \n",
      "/Users/sbaez/Documents/PhD/research/thought-selection/resources/pilot/Ratio-conflicts-to-triples_2_thomas\n",
      "   Mention ID  Turn Speaker                             Response  \\\n",
      "0           0     0  thomas                      I'm from Berlin   \n",
      "1           1     1  thomas  The Humbold University is in Berlin   \n",
      "2           2     2  thomas   Universities are usually in cities   \n",
      "3           3     3  thomas                    Glad to hear that   \n",
      "4           4     4  thomas                    Glad to hear that   \n",
      "\n",
      "                               rdf_file  \n",
      "0  [brain_log_2022-03-07-14-28-33.trig]  \n",
      "1  [brain_log_2022-03-07-14-30-22.trig]  \n",
      "2  [brain_log_2022-03-07-14-32-23.trig]  \n",
      "3  [brain_log_2022-03-07-14-35-57.trig]  \n",
      "4  [brain_log_2022-03-07-14-35-58.trig]  \n",
      "/Users/sbaez/Documents/PhD/research/thought-selection/resources/pilot/Ratio-conflicts-to-statements_1_dimitris\n",
      "   Mention ID  Turn   Speaker  \\\n",
      "0           0     0  dimitris   \n",
      "1           1     1  dimitris   \n",
      "2           2     2  dimitris   \n",
      "3           3     3  dimitris   \n",
      "4           4     4  dimitris   \n",
      "\n",
      "                                            Response  \\\n",
      "0                          I know Leolani the robot.   \n",
      "1            I have a lot of experience with selene.   \n",
      "2  I can experience music which is my hobby and h...   \n",
      "3         I don't think robots can experience music.   \n",
      "4                                                      \n",
      "\n",
      "                                            rdf_file  \n",
      "0  [brain_log_2022-03-06-19-32-53.trig, brain_log...  \n",
      "1               [brain_log_2022-03-06-19-33-47.trig]  \n",
      "2               [brain_log_2022-03-06-19-35-14.trig]  \n",
      "3               [brain_log_2022-03-06-19-36-29.trig]  \n",
      "4               [brain_log_2022-03-06-19-37-32.trig]  \n",
      "/Users/sbaez/Documents/PhD/research/thought-selection/resources/pilot/Ratio-conflicts-to-statements_2_lea\n",
      "   Mention ID  Turn Speaker  \\\n",
      "0           0     0     lea   \n",
      "1           1     1     lea   \n",
      "2           2     2     lea   \n",
      "3           3     3     lea   \n",
      "4           4     4     lea   \n",
      "\n",
      "                                            Response  \\\n",
      "0                              I'm very tired today.   \n",
      "1                       I'm a phd student right now.   \n",
      "2                   A phd is an academic occupation.   \n",
      "3  Being a professor is another academic occupation.   \n",
      "4  Another academic occupation is being a researc...   \n",
      "\n",
      "                                            rdf_file  \n",
      "0  [brain_log_2022-03-07-14-28-15.trig, brain_log...  \n",
      "1               [brain_log_2022-03-07-14-31-19.trig]  \n",
      "2               [brain_log_2022-03-07-14-32-54.trig]  \n",
      "3               [brain_log_2022-03-07-14-33-50.trig]  \n",
      "4               [brain_log_2022-03-07-14-35-50.trig]  \n",
      "/Users/sbaez/Documents/PhD/research/thought-selection/resources/pilot/Ratio-perspectives-to-statements_1_thomas\n",
      "   Mention ID  Turn Speaker                 Response  \\\n",
      "0           0     0  thomas              Hi Leolani!   \n",
      "1           1     1  thomas        I can know fruits   \n",
      "2           2     2  thomas       I can know objects   \n",
      "3           3     3  thomas  I traveled to Amsterdam   \n",
      "4           4     4  thomas                            \n",
      "\n",
      "                                            rdf_file  \n",
      "0  [brain_log_2022-03-04-13-31-14.trig, brain_log...  \n",
      "1               [brain_log_2022-03-04-13-36-14.trig]  \n",
      "2               [brain_log_2022-03-04-13-36-50.trig]  \n",
      "3               [brain_log_2022-03-04-13-37-43.trig]  \n",
      "4               [brain_log_2022-03-04-13-39-29.trig]  \n",
      "/Users/sbaez/Documents/PhD/research/thought-selection/resources/pilot/Ratio-perspectives-to-statements_2_piek\n",
      "   Mention ID  Turn Speaker                    Response  \\\n",
      "0           0     0    piek               I know Thomas   \n",
      "1           1     1    piek      Thomas also knows you.   \n",
      "2           2     2    piek                               \n",
      "3           3     3    piek        You know Thomas too.   \n",
      "4           4     4    piek  I do not trust you either.   \n",
      "\n",
      "                                            rdf_file  \n",
      "0  [brain_log_2022-03-07-15-18-46.trig, brain_log...  \n",
      "1               [brain_log_2022-03-07-15-19-26.trig]  \n",
      "2               [brain_log_2022-03-07-15-20-26.trig]  \n",
      "3               [brain_log_2022-03-07-15-21-01.trig]  \n",
      "4               [brain_log_2022-03-07-15-22-28.trig]  \n"
     ]
    }
   ],
   "source": [
    "# Gather all scenarios\n",
    "RDF_FOLDERS_ALL_CONVOS = []\n",
    "\n",
    "for rdf_folder in RDF_FOLDERS:\n",
    "    # Find folders relates to this reward condition\n",
    "    reward = rdf_folder.parent.stem.split('_')[0]\n",
    "    scenarios_with_reward = sorted([path for path in SCENARIOS_FOLDER.glob(f'*{reward}*')])\n",
    "    df_for_reward = pd.DataFrame(columns=['Mention ID', 'Turn', 'Speaker', 'Response', 'rdf_file'])\n",
    "\n",
    "    for scenario in scenarios_with_reward:\n",
    "        # Read files from this conversation\n",
    "        scenario_rdf_folder = [f for f in scenario.iterdir() if f.is_dir() and f.stem[0].isdigit()][0]\n",
    "        files = sorted([path for path in scenario_rdf_folder.glob('*.trig')])\n",
    "\n",
    "        # Gather all folders for automatic evaluation of each conversation\n",
    "        RDF_FOLDERS_ALL_CONVOS.append(scenario_rdf_folder)\n",
    "\n",
    "        # Make directory per agent merging all conversations\n",
    "        processed_folder = Path(DATA_FOLDER) / 'processed_pilot' / reward\n",
    "        processed_folder.mkdir(parents=True, exist_ok=True)\n",
    "        processed_folder_rdf = processed_folder / 'rdf'\n",
    "        processed_folder_rdf.mkdir(parents=True, exist_ok=True)\n",
    "\n",
    "        # Copy rdf files\n",
    "        for file in files:\n",
    "            copy(file, processed_folder_rdf / file.stem)\n",
    "\n",
    "        # Merge turn to trig\n",
    "        full_df = pd.read_json(scenario / f'turn_to_trig_file.json')\n",
    "        print(scenario)\n",
    "        print(full_df.head())\n"
   ],
   "metadata": {
    "collapsed": false
   }
  },
  {
   "cell_type": "code",
   "execution_count": 6,
   "outputs": [
    {
     "name": "stderr",
     "output_type": "stream",
     "text": [
      "2023-01-08 19:57:07 -     INFO -                      cltl.dialogue_evaluation.GraphEvaluator - Booted\n"
     ]
    },
    {
     "name": "stdout",
     "output_type": "stream",
     "text": [
      "[PosixPath('/Users/sbaez/Documents/PhD/research/thought-selection/resources/Total-triples_1_lea/2022-03-04-14-13'), PosixPath('/Users/sbaez/Documents/PhD/research/thought-selection/resources/Total-triples_2_tae/2022-03-07-17-20'), PosixPath('/Users/sbaez/Documents/PhD/research/thought-selection/resources/Ratio-conflicts-to-triples_1_piek/2022-03-04-14-48'), PosixPath('/Users/sbaez/Documents/PhD/research/thought-selection/resources/Ratio-conflicts-to-triples_2_thomas/2022-03-07-14-25'), PosixPath('/Users/sbaez/Documents/PhD/research/thought-selection/resources/Ratio-conflicts-to-statements_1_dimitris/2022-03-06-19-32'), PosixPath('/Users/sbaez/Documents/PhD/research/thought-selection/resources/Ratio-conflicts-to-statements_2_lea/2022-03-07-14-25'), PosixPath('/Users/sbaez/Documents/PhD/research/thought-selection/resources/Ratio-perspectives-to-statements_1_thomas/2022-03-04-13-30'), PosixPath('/Users/sbaez/Documents/PhD/research/thought-selection/resources/Ratio-perspectives-to-statements_2_piek/2022-03-07-15-17')]\n",
      "/Users/sbaez/Documents/PhD/research/thought-selection/resources/Total-triples_1_lea/2022-03-04-14-13\n",
      "----------SCENARIO:Total-triples_1_lea, EVALUATION:graph metrics---------\n",
      "Processing turn 0/20\n",
      "\tFound RDF, cumulative: 1\n",
      "\tAdding triples\n",
      "\tCalculating graph metrics\n"
     ]
    },
    {
     "name": "stderr",
     "output_type": "stream",
     "text": [
      "/Users/sbaez/Documents/PhD/leolani/cltl-dialogueevaluation/src/cltl/dialogue_evaluation/metrics/graph_measures.py:15: RuntimeWarning: divide by zero encountered in true_divide\n",
      "  ent = np.nansum(dist * np.log2(1.0 / dist))\n",
      "/Users/sbaez/Documents/PhD/leolani/cltl-dialogueevaluation/src/cltl/dialogue_evaluation/metrics/graph_measures.py:15: RuntimeWarning: invalid value encountered in multiply\n",
      "  ent = np.nansum(dist * np.log2(1.0 / dist))\n"
     ]
    },
    {
     "name": "stdout",
     "output_type": "stream",
     "text": [
      "\tCalculating RDF graph metrics\n",
      "\tCalculating interaction metrics\n",
      "\tFound RDF, cumulative: 2\n",
      "\tAdding triples\n",
      "\tCalculating graph metrics\n",
      "\tCalculating RDF graph metrics\n",
      "\tCalculating interaction metrics\n",
      "Processing turn 1/20\n",
      "\tFound RDF, cumulative: 3\n",
      "\tAdding triples\n",
      "\tCalculating graph metrics\n",
      "\tCalculating RDF graph metrics\n",
      "\tCalculating interaction metrics\n",
      "Processing turn 2/20\n",
      "\tFound RDF, cumulative: 4\n",
      "\tAdding triples\n",
      "\tCalculating graph metrics\n",
      "\tCalculating RDF graph metrics\n",
      "\tCalculating interaction metrics\n",
      "Processing turn 3/20\n",
      "\tFound RDF, cumulative: 5\n",
      "\tAdding triples\n",
      "\tCalculating graph metrics\n",
      "\tCalculating RDF graph metrics\n",
      "\tCalculating interaction metrics\n",
      "Processing turn 4/20\n",
      "\tFound RDF, cumulative: 6\n",
      "\tAdding triples\n",
      "\tCalculating graph metrics\n",
      "\tCalculating RDF graph metrics\n",
      "\tCalculating interaction metrics\n",
      "Processing turn 5/20\n",
      "\tFound RDF, cumulative: 7\n",
      "\tAdding triples\n",
      "\tCalculating graph metrics\n",
      "\tCalculating RDF graph metrics\n",
      "\tCalculating interaction metrics\n",
      "Processing turn 6/20\n",
      "\tFound RDF, cumulative: 8\n",
      "\tAdding triples\n",
      "\tCalculating graph metrics\n",
      "\tCalculating RDF graph metrics\n",
      "\tCalculating interaction metrics\n",
      "Processing turn 7/20\n",
      "\tFound RDF, cumulative: 9\n",
      "\tAdding triples\n",
      "\tCalculating graph metrics\n",
      "\tCalculating RDF graph metrics\n",
      "\tCalculating interaction metrics\n",
      "Processing turn 8/20\n",
      "\tFound RDF, cumulative: 10\n",
      "\tAdding triples\n",
      "\tCalculating graph metrics\n",
      "\tCalculating RDF graph metrics\n",
      "\tCalculating interaction metrics\n",
      "Processing turn 9/20\n",
      "\tFound RDF, cumulative: 11\n",
      "\tAdding triples\n",
      "\tCalculating graph metrics\n",
      "\tCalculating RDF graph metrics\n",
      "\tCalculating interaction metrics\n",
      "Processing turn 10/20\n",
      "\tFound RDF, cumulative: 12\n",
      "\tAdding triples\n",
      "\tCalculating graph metrics\n",
      "\tCalculating RDF graph metrics\n",
      "\tCalculating interaction metrics\n",
      "Processing turn 11/20\n",
      "\tFound RDF, cumulative: 13\n",
      "\tAdding triples\n",
      "\tCalculating graph metrics\n",
      "\tCalculating RDF graph metrics\n",
      "\tCalculating interaction metrics\n",
      "Processing turn 12/20\n",
      "\tFound RDF, cumulative: 14\n",
      "\tAdding triples\n",
      "\tCalculating graph metrics\n",
      "\tCalculating RDF graph metrics\n",
      "\tCalculating interaction metrics\n",
      "Processing turn 13/20\n",
      "\tFound RDF, cumulative: 15\n",
      "\tAdding triples\n",
      "\tCalculating graph metrics\n",
      "\tCalculating RDF graph metrics\n",
      "\tCalculating interaction metrics\n",
      "Processing turn 14/20\n",
      "\tFound RDF, cumulative: 16\n",
      "\tAdding triples\n",
      "\tCalculating graph metrics\n",
      "\tCalculating RDF graph metrics\n",
      "\tCalculating interaction metrics\n",
      "Processing turn 15/20\n",
      "\tFound RDF, cumulative: 17\n",
      "\tAdding triples\n",
      "\tCalculating graph metrics\n",
      "\tCalculating RDF graph metrics\n",
      "\tCalculating interaction metrics\n",
      "Processing turn 16/20\n",
      "\tFound RDF, cumulative: 18\n",
      "\tAdding triples\n",
      "\tCalculating graph metrics\n",
      "\tCalculating RDF graph metrics\n",
      "\tCalculating interaction metrics\n",
      "Processing turn 17/20\n",
      "\tFound RDF, cumulative: 19\n",
      "\tAdding triples\n",
      "\tCalculating graph metrics\n",
      "\tCalculating RDF graph metrics\n",
      "\tCalculating interaction metrics\n",
      "Processing turn 18/20\n",
      "\tFound RDF, cumulative: 20\n",
      "\tAdding triples\n",
      "\tCalculating graph metrics\n",
      "\tCalculating RDF graph metrics\n",
      "\tCalculating interaction metrics\n",
      "Processing turn 19/20\n",
      "\tFound RDF, cumulative: 21\n",
      "\tAdding triples\n",
      "\tCalculating graph metrics\n",
      "\tCalculating RDF graph metrics\n",
      "\tCalculating interaction metrics\n",
      "Processing turn 20/20\n",
      "\tFound RDF, cumulative: 22\n",
      "\tAdding triples\n",
      "\tCalculating graph metrics\n",
      "\tCalculating RDF graph metrics\n",
      "\tCalculating interaction metrics\n",
      "\n",
      "\tSaved to file: /Users/sbaez/Documents/PhD/research/thought-selection/resources/Total-triples_1_lea/evaluation/graph_evaluation.csv\n",
      "/Users/sbaez/Documents/PhD/research/thought-selection/resources/Total-triples_2_tae/2022-03-07-17-20\n",
      "----------SCENARIO:Total-triples_2_tae, EVALUATION:graph metrics---------\n",
      "Processing turn 0/25\n",
      "\tFound RDF, cumulative: 1\n",
      "\tAdding triples\n",
      "\tCalculating graph metrics\n",
      "\tCalculating RDF graph metrics\n",
      "\tCalculating interaction metrics\n",
      "\tFound RDF, cumulative: 2\n",
      "\tAdding triples\n",
      "\tCalculating graph metrics\n",
      "\tCalculating RDF graph metrics\n",
      "\tCalculating interaction metrics\n",
      "Processing turn 1/25\n",
      "\tFound RDF, cumulative: 3\n",
      "\tAdding triples\n",
      "\tCalculating graph metrics\n",
      "\tCalculating RDF graph metrics\n",
      "\tCalculating interaction metrics\n",
      "Processing turn 2/25\n",
      "\tFound RDF, cumulative: 4\n",
      "\tAdding triples\n",
      "\tCalculating graph metrics\n",
      "\tCalculating RDF graph metrics\n",
      "\tCalculating interaction metrics\n",
      "Processing turn 3/25\n",
      "\tFound RDF, cumulative: 5\n",
      "\tAdding triples\n",
      "\tCalculating graph metrics\n",
      "\tCalculating RDF graph metrics\n",
      "\tCalculating interaction metrics\n",
      "Processing turn 4/25\n",
      "\tFound RDF, cumulative: 6\n",
      "\tAdding triples\n",
      "\tCalculating graph metrics\n",
      "\tCalculating RDF graph metrics\n",
      "\tCalculating interaction metrics\n",
      "Processing turn 5/25\n",
      "\tFound RDF, cumulative: 7\n",
      "\tAdding triples\n",
      "\tCalculating graph metrics\n",
      "\tCalculating RDF graph metrics\n",
      "\tCalculating interaction metrics\n",
      "Processing turn 6/25\n",
      "\tFound RDF, cumulative: 8\n",
      "\tAdding triples\n",
      "\tCalculating graph metrics\n",
      "\tCalculating RDF graph metrics\n",
      "\tCalculating interaction metrics\n",
      "Processing turn 7/25\n",
      "\tFound RDF, cumulative: 9\n",
      "\tAdding triples\n",
      "\tCalculating graph metrics\n",
      "\tCalculating RDF graph metrics\n",
      "\tCalculating interaction metrics\n",
      "Processing turn 8/25\n",
      "\tFound RDF, cumulative: 10\n",
      "\tAdding triples\n",
      "\tCalculating graph metrics\n",
      "\tCalculating RDF graph metrics\n",
      "\tCalculating interaction metrics\n",
      "Processing turn 9/25\n",
      "\tFound RDF, cumulative: 11\n",
      "\tAdding triples\n",
      "\tCalculating graph metrics\n",
      "\tCalculating RDF graph metrics\n",
      "\tCalculating interaction metrics\n",
      "Processing turn 10/25\n",
      "\tFound RDF, cumulative: 12\n",
      "\tAdding triples\n",
      "\tCalculating graph metrics\n",
      "\tCalculating RDF graph metrics\n",
      "\tCalculating interaction metrics\n",
      "Processing turn 11/25\n",
      "\tFound RDF, cumulative: 13\n",
      "\tAdding triples\n",
      "\tCalculating graph metrics\n",
      "\tCalculating RDF graph metrics\n",
      "\tCalculating interaction metrics\n",
      "Processing turn 12/25\n",
      "\tFound RDF, cumulative: 14\n",
      "\tAdding triples\n",
      "\tCalculating graph metrics\n",
      "\tCalculating RDF graph metrics\n",
      "\tCalculating interaction metrics\n",
      "Processing turn 13/25\n",
      "\tFound RDF, cumulative: 15\n",
      "\tAdding triples\n",
      "\tCalculating graph metrics\n",
      "\tCalculating RDF graph metrics\n",
      "\tCalculating interaction metrics\n",
      "Processing turn 14/25\n",
      "\tFound RDF, cumulative: 16\n",
      "\tAdding triples\n",
      "\tCalculating graph metrics\n",
      "\tCalculating RDF graph metrics\n",
      "\tCalculating interaction metrics\n",
      "Processing turn 15/25\n",
      "\tFound RDF, cumulative: 17\n",
      "\tAdding triples\n",
      "\tCalculating graph metrics\n",
      "\tCalculating RDF graph metrics\n",
      "\tCalculating interaction metrics\n",
      "Processing turn 16/25\n",
      "\tFound RDF, cumulative: 18\n",
      "\tAdding triples\n",
      "\tCalculating graph metrics\n",
      "\tCalculating RDF graph metrics\n",
      "\tCalculating interaction metrics\n",
      "Processing turn 17/25\n",
      "\tFound RDF, cumulative: 19\n",
      "\tAdding triples\n",
      "\tCalculating graph metrics\n",
      "\tCalculating RDF graph metrics\n",
      "\tCalculating interaction metrics\n",
      "Processing turn 18/25\n",
      "\tFound RDF, cumulative: 20\n",
      "\tAdding triples\n",
      "\tCalculating graph metrics\n",
      "\tCalculating RDF graph metrics\n",
      "\tCalculating interaction metrics\n",
      "Processing turn 19/25\n",
      "\tFound RDF, cumulative: 21\n",
      "\tAdding triples\n",
      "\tCalculating graph metrics\n",
      "\tCalculating RDF graph metrics\n",
      "\tCalculating interaction metrics\n",
      "Processing turn 20/25\n",
      "\tFound RDF, cumulative: 22\n",
      "\tAdding triples\n",
      "\tCalculating graph metrics\n",
      "\tCalculating RDF graph metrics\n",
      "\tCalculating interaction metrics\n",
      "Processing turn 21/25\n",
      "\tFound RDF, cumulative: 23\n",
      "\tAdding triples\n",
      "\tCalculating graph metrics\n",
      "\tCalculating RDF graph metrics\n",
      "\tCalculating interaction metrics\n",
      "Processing turn 22/25\n",
      "\tFound RDF, cumulative: 24\n",
      "\tAdding triples\n",
      "\tCalculating graph metrics\n",
      "\tCalculating RDF graph metrics\n",
      "\tCalculating interaction metrics\n",
      "Processing turn 23/25\n",
      "\tFound RDF, cumulative: 25\n",
      "\tAdding triples\n",
      "\tCalculating graph metrics\n",
      "\tCalculating RDF graph metrics\n",
      "\tCalculating interaction metrics\n",
      "Processing turn 24/25\n",
      "\tFound RDF, cumulative: 26\n",
      "\tAdding triples\n",
      "\tCalculating graph metrics\n",
      "\tCalculating RDF graph metrics\n",
      "\tCalculating interaction metrics\n",
      "Processing turn 25/25\n",
      "\tFound RDF, cumulative: 27\n",
      "\tAdding triples\n",
      "\tCalculating graph metrics\n",
      "\tCalculating RDF graph metrics\n",
      "\tCalculating interaction metrics\n",
      "\n",
      "\tSaved to file: /Users/sbaez/Documents/PhD/research/thought-selection/resources/Total-triples_2_tae/evaluation/graph_evaluation.csv\n",
      "/Users/sbaez/Documents/PhD/research/thought-selection/resources/Ratio-conflicts-to-triples_1_piek/2022-03-04-14-48\n",
      "----------SCENARIO:Ratio-conflicts-to-triples_1_piek, EVALUATION:graph metrics---------\n",
      "Processing turn 0/28\n",
      "\tFound RDF, cumulative: 1\n",
      "\tAdding triples\n",
      "\tCalculating graph metrics\n",
      "\tCalculating RDF graph metrics\n",
      "\tCalculating interaction metrics\n",
      "\tFound RDF, cumulative: 2\n",
      "\tAdding triples\n",
      "\tCalculating graph metrics\n",
      "\tCalculating RDF graph metrics\n",
      "\tCalculating interaction metrics\n",
      "Processing turn 1/28\n",
      "\tFound RDF, cumulative: 3\n",
      "\tAdding triples\n",
      "\tCalculating graph metrics\n",
      "\tCalculating RDF graph metrics\n",
      "\tCalculating interaction metrics\n",
      "Processing turn 2/28\n",
      "\tFound RDF, cumulative: 4\n",
      "\tAdding triples\n",
      "\tCalculating graph metrics\n",
      "\tCalculating RDF graph metrics\n",
      "\tCalculating interaction metrics\n",
      "Processing turn 3/28\n",
      "\tFound RDF, cumulative: 5\n",
      "\tAdding triples\n",
      "\tCalculating graph metrics\n",
      "\tCalculating RDF graph metrics\n",
      "\tCalculating interaction metrics\n",
      "Processing turn 4/28\n",
      "\tFound RDF, cumulative: 6\n",
      "\tAdding triples\n",
      "\tCalculating graph metrics\n",
      "\tCalculating RDF graph metrics\n",
      "\tCalculating interaction metrics\n",
      "Processing turn 5/28\n",
      "\tFound RDF, cumulative: 7\n",
      "\tAdding triples\n",
      "\tCalculating graph metrics\n",
      "\tCalculating RDF graph metrics\n",
      "\tCalculating interaction metrics\n",
      "Processing turn 6/28\n",
      "\tFound RDF, cumulative: 8\n",
      "\tAdding triples\n",
      "\tCalculating graph metrics\n",
      "\tCalculating RDF graph metrics\n",
      "\tCalculating interaction metrics\n",
      "Processing turn 7/28\n",
      "\tFound RDF, cumulative: 9\n",
      "\tAdding triples\n",
      "\tCalculating graph metrics\n",
      "\tCalculating RDF graph metrics\n",
      "\tCalculating interaction metrics\n",
      "Processing turn 8/28\n",
      "\tFound RDF, cumulative: 10\n",
      "\tAdding triples\n",
      "\tCalculating graph metrics\n",
      "\tCalculating RDF graph metrics\n",
      "\tCalculating interaction metrics\n",
      "Processing turn 9/28\n",
      "\tFound RDF, cumulative: 11\n",
      "\tAdding triples\n",
      "\tCalculating graph metrics\n",
      "\tCalculating RDF graph metrics\n",
      "\tCalculating interaction metrics\n",
      "Processing turn 10/28\n",
      "\tFound RDF, cumulative: 12\n",
      "\tAdding triples\n",
      "\tCalculating graph metrics\n",
      "\tCalculating RDF graph metrics\n",
      "\tCalculating interaction metrics\n",
      "Processing turn 11/28\n",
      "\tFound RDF, cumulative: 13\n",
      "\tAdding triples\n",
      "\tCalculating graph metrics\n",
      "\tCalculating RDF graph metrics\n",
      "\tCalculating interaction metrics\n",
      "Processing turn 12/28\n",
      "\tFound RDF, cumulative: 14\n",
      "\tAdding triples\n",
      "\tCalculating graph metrics\n",
      "\tCalculating RDF graph metrics\n",
      "\tCalculating interaction metrics\n",
      "Processing turn 13/28\n",
      "\tFound RDF, cumulative: 15\n",
      "\tAdding triples\n",
      "\tCalculating graph metrics\n",
      "\tCalculating RDF graph metrics\n",
      "\tCalculating interaction metrics\n",
      "Processing turn 14/28\n",
      "\tFound RDF, cumulative: 16\n",
      "\tAdding triples\n",
      "\tCalculating graph metrics\n",
      "\tCalculating RDF graph metrics\n",
      "\tCalculating interaction metrics\n",
      "Processing turn 15/28\n",
      "\tFound RDF, cumulative: 17\n",
      "\tAdding triples\n",
      "\tCalculating graph metrics\n",
      "\tCalculating RDF graph metrics\n",
      "\tCalculating interaction metrics\n",
      "Processing turn 16/28\n",
      "\tFound RDF, cumulative: 18\n",
      "\tAdding triples\n",
      "\tCalculating graph metrics\n",
      "\tCalculating RDF graph metrics\n",
      "\tCalculating interaction metrics\n",
      "Processing turn 17/28\n",
      "\tFound RDF, cumulative: 19\n",
      "\tAdding triples\n",
      "\tCalculating graph metrics\n",
      "\tCalculating RDF graph metrics\n",
      "\tCalculating interaction metrics\n",
      "Processing turn 18/28\n",
      "\tFound RDF, cumulative: 20\n",
      "\tAdding triples\n",
      "\tCalculating graph metrics\n",
      "\tCalculating RDF graph metrics\n",
      "\tCalculating interaction metrics\n",
      "Processing turn 19/28\n",
      "\tFound RDF, cumulative: 21\n",
      "\tAdding triples\n",
      "\tCalculating graph metrics\n",
      "\tCalculating RDF graph metrics\n",
      "\tCalculating interaction metrics\n",
      "Processing turn 20/28\n",
      "\tFound RDF, cumulative: 22\n",
      "\tAdding triples\n",
      "\tCalculating graph metrics\n",
      "\tCalculating RDF graph metrics\n",
      "\tCalculating interaction metrics\n",
      "Processing turn 21/28\n",
      "\tFound RDF, cumulative: 23\n",
      "\tAdding triples\n",
      "\tCalculating graph metrics\n",
      "\tCalculating RDF graph metrics\n",
      "\tCalculating interaction metrics\n",
      "Processing turn 22/28\n",
      "\tFound RDF, cumulative: 24\n",
      "\tAdding triples\n",
      "\tCalculating graph metrics\n",
      "\tCalculating RDF graph metrics\n",
      "\tCalculating interaction metrics\n",
      "Processing turn 23/28\n",
      "\tFound RDF, cumulative: 25\n",
      "\tAdding triples\n",
      "\tCalculating graph metrics\n",
      "\tCalculating RDF graph metrics\n",
      "\tCalculating interaction metrics\n",
      "Processing turn 24/28\n",
      "\tFound RDF, cumulative: 26\n",
      "\tAdding triples\n",
      "\tCalculating graph metrics\n",
      "\tCalculating RDF graph metrics\n",
      "\tCalculating interaction metrics\n",
      "Processing turn 25/28\n",
      "\tFound RDF, cumulative: 27\n",
      "\tAdding triples\n",
      "\tCalculating graph metrics\n",
      "\tCalculating RDF graph metrics\n",
      "\tCalculating interaction metrics\n",
      "Processing turn 26/28\n",
      "\tFound RDF, cumulative: 28\n",
      "\tAdding triples\n",
      "\tCalculating graph metrics\n",
      "\tCalculating RDF graph metrics\n",
      "\tCalculating interaction metrics\n",
      "Processing turn 27/28\n",
      "\tFound RDF, cumulative: 29\n",
      "\tAdding triples\n",
      "\tCalculating graph metrics\n",
      "\tCalculating RDF graph metrics\n",
      "\tCalculating interaction metrics\n",
      "Processing turn 28/28\n",
      "\tFound RDF, cumulative: 30\n",
      "\tAdding triples\n",
      "\tCalculating graph metrics\n",
      "\tCalculating RDF graph metrics\n",
      "\tCalculating interaction metrics\n",
      "\n",
      "\tSaved to file: /Users/sbaez/Documents/PhD/research/thought-selection/resources/Ratio-conflicts-to-triples_1_piek/evaluation/graph_evaluation.csv\n",
      "/Users/sbaez/Documents/PhD/research/thought-selection/resources/Ratio-conflicts-to-triples_2_thomas/2022-03-07-14-25\n",
      "----------SCENARIO:Ratio-conflicts-to-triples_2_thomas, EVALUATION:graph metrics---------\n",
      "Processing turn 0/24\n",
      "\tFound RDF, cumulative: 1\n",
      "\tAdding triples\n",
      "\tCalculating graph metrics\n",
      "\tCalculating RDF graph metrics\n",
      "\tCalculating interaction metrics\n",
      "Processing turn 1/24\n",
      "\tFound RDF, cumulative: 2\n",
      "\tAdding triples\n",
      "\tCalculating graph metrics\n",
      "\tCalculating RDF graph metrics\n",
      "\tCalculating interaction metrics\n",
      "Processing turn 2/24\n",
      "\tFound RDF, cumulative: 3\n",
      "\tAdding triples\n",
      "\tCalculating graph metrics\n",
      "\tCalculating RDF graph metrics\n",
      "\tCalculating interaction metrics\n",
      "Processing turn 3/24\n",
      "\tFound RDF, cumulative: 4\n",
      "\tAdding triples\n",
      "\tCalculating graph metrics\n",
      "\tCalculating RDF graph metrics\n",
      "\tCalculating interaction metrics\n",
      "Processing turn 4/24\n",
      "\tFound RDF, cumulative: 5\n",
      "\tAdding triples\n",
      "\tCalculating graph metrics\n",
      "\tCalculating RDF graph metrics\n",
      "\tCalculating interaction metrics\n",
      "Processing turn 5/24\n",
      "\tFound RDF, cumulative: 6\n",
      "\tAdding triples\n",
      "\tCalculating graph metrics\n",
      "\tCalculating RDF graph metrics\n",
      "\tCalculating interaction metrics\n",
      "Processing turn 6/24\n",
      "\tFound RDF, cumulative: 7\n",
      "\tAdding triples\n",
      "\tCalculating graph metrics\n",
      "\tCalculating RDF graph metrics\n",
      "\tCalculating interaction metrics\n",
      "Processing turn 7/24\n",
      "\tFound RDF, cumulative: 8\n",
      "\tAdding triples\n",
      "\tCalculating graph metrics\n",
      "\tCalculating RDF graph metrics\n",
      "\tCalculating interaction metrics\n",
      "Processing turn 8/24\n",
      "\tFound RDF, cumulative: 9\n",
      "\tAdding triples\n",
      "\tCalculating graph metrics\n",
      "\tCalculating RDF graph metrics\n",
      "\tCalculating interaction metrics\n",
      "Processing turn 9/24\n",
      "\tFound RDF, cumulative: 10\n",
      "\tAdding triples\n",
      "\tCalculating graph metrics\n",
      "\tCalculating RDF graph metrics\n",
      "\tCalculating interaction metrics\n",
      "Processing turn 10/24\n",
      "\tFound RDF, cumulative: 11\n",
      "\tAdding triples\n",
      "\tCalculating graph metrics\n",
      "\tCalculating RDF graph metrics\n",
      "\tCalculating interaction metrics\n",
      "Processing turn 11/24\n",
      "\tFound RDF, cumulative: 12\n",
      "\tAdding triples\n",
      "\tCalculating graph metrics\n",
      "\tCalculating RDF graph metrics\n",
      "\tCalculating interaction metrics\n",
      "Processing turn 12/24\n",
      "\tFound RDF, cumulative: 13\n",
      "\tAdding triples\n",
      "\tCalculating graph metrics\n",
      "\tCalculating RDF graph metrics\n",
      "\tCalculating interaction metrics\n",
      "Processing turn 13/24\n",
      "\tFound RDF, cumulative: 14\n",
      "\tAdding triples\n",
      "\tCalculating graph metrics\n",
      "\tCalculating RDF graph metrics\n",
      "\tCalculating interaction metrics\n",
      "Processing turn 14/24\n",
      "\tFound RDF, cumulative: 15\n",
      "\tAdding triples\n",
      "\tCalculating graph metrics\n",
      "\tCalculating RDF graph metrics\n",
      "\tCalculating interaction metrics\n",
      "Processing turn 15/24\n",
      "\tFound RDF, cumulative: 16\n",
      "\tAdding triples\n",
      "\tCalculating graph metrics\n",
      "\tCalculating RDF graph metrics\n",
      "\tCalculating interaction metrics\n",
      "Processing turn 16/24\n",
      "\tFound RDF, cumulative: 17\n",
      "\tAdding triples\n",
      "\tCalculating graph metrics\n",
      "\tCalculating RDF graph metrics\n",
      "\tCalculating interaction metrics\n",
      "Processing turn 17/24\n",
      "\tFound RDF, cumulative: 18\n",
      "\tAdding triples\n",
      "\tCalculating graph metrics\n",
      "\tCalculating RDF graph metrics\n",
      "\tCalculating interaction metrics\n",
      "Processing turn 18/24\n",
      "\tFound RDF, cumulative: 19\n",
      "\tAdding triples\n",
      "\tCalculating graph metrics\n",
      "\tCalculating RDF graph metrics\n",
      "\tCalculating interaction metrics\n",
      "Processing turn 19/24\n",
      "\tFound RDF, cumulative: 20\n",
      "\tAdding triples\n",
      "\tCalculating graph metrics\n",
      "\tCalculating RDF graph metrics\n",
      "\tCalculating interaction metrics\n",
      "Processing turn 20/24\n",
      "\tFound RDF, cumulative: 21\n",
      "\tAdding triples\n",
      "\tCalculating graph metrics\n",
      "\tCalculating RDF graph metrics\n",
      "\tCalculating interaction metrics\n",
      "Processing turn 21/24\n",
      "\tFound RDF, cumulative: 22\n",
      "\tAdding triples\n",
      "\tCalculating graph metrics\n",
      "\tCalculating RDF graph metrics\n",
      "\tCalculating interaction metrics\n",
      "Processing turn 22/24\n",
      "\tFound RDF, cumulative: 23\n",
      "\tAdding triples\n",
      "\tCalculating graph metrics\n",
      "\tCalculating RDF graph metrics\n",
      "\tCalculating interaction metrics\n",
      "Processing turn 23/24\n",
      "\tFound RDF, cumulative: 24\n",
      "\tAdding triples\n",
      "\tCalculating graph metrics\n",
      "\tCalculating RDF graph metrics\n",
      "\tCalculating interaction metrics\n",
      "Processing turn 24/24\n",
      "\tFound RDF, cumulative: 25\n",
      "\tAdding triples\n",
      "\tCalculating graph metrics\n",
      "\tCalculating RDF graph metrics\n",
      "\tCalculating interaction metrics\n",
      "\n",
      "\tSaved to file: /Users/sbaez/Documents/PhD/research/thought-selection/resources/Ratio-conflicts-to-triples_2_thomas/evaluation/graph_evaluation.csv\n",
      "/Users/sbaez/Documents/PhD/research/thought-selection/resources/Ratio-conflicts-to-statements_1_dimitris/2022-03-06-19-32\n",
      "----------SCENARIO:Ratio-conflicts-to-statements_1_dimitris, EVALUATION:graph metrics---------\n",
      "Processing turn 0/30\n",
      "\tFound RDF, cumulative: 1\n",
      "\tAdding triples\n",
      "\tCalculating graph metrics\n",
      "\tCalculating RDF graph metrics\n",
      "\tCalculating interaction metrics\n",
      "\tFound RDF, cumulative: 2\n",
      "\tAdding triples\n",
      "\tCalculating graph metrics\n",
      "\tCalculating RDF graph metrics\n",
      "\tCalculating interaction metrics\n",
      "Processing turn 1/30\n",
      "\tFound RDF, cumulative: 3\n",
      "\tAdding triples\n",
      "\tCalculating graph metrics\n",
      "\tCalculating RDF graph metrics\n",
      "\tCalculating interaction metrics\n",
      "Processing turn 2/30\n",
      "\tFound RDF, cumulative: 4\n",
      "\tAdding triples\n",
      "\tCalculating graph metrics\n",
      "\tCalculating RDF graph metrics\n",
      "\tCalculating interaction metrics\n",
      "Processing turn 3/30\n",
      "\tFound RDF, cumulative: 5\n",
      "\tAdding triples\n",
      "\tCalculating graph metrics\n",
      "\tCalculating RDF graph metrics\n",
      "\tCalculating interaction metrics\n",
      "Processing turn 4/30\n",
      "\tFound RDF, cumulative: 6\n",
      "\tAdding triples\n",
      "\tCalculating graph metrics\n",
      "\tCalculating RDF graph metrics\n",
      "\tCalculating interaction metrics\n",
      "Processing turn 5/30\n",
      "\tFound RDF, cumulative: 7\n",
      "\tAdding triples\n",
      "\tCalculating graph metrics\n",
      "\tCalculating RDF graph metrics\n",
      "\tCalculating interaction metrics\n",
      "Processing turn 6/30\n",
      "\tFound RDF, cumulative: 8\n",
      "\tAdding triples\n",
      "\tCalculating graph metrics\n",
      "\tCalculating RDF graph metrics\n",
      "\tCalculating interaction metrics\n",
      "Processing turn 7/30\n",
      "\tFound RDF, cumulative: 9\n",
      "\tAdding triples\n",
      "\tCalculating graph metrics\n",
      "\tCalculating RDF graph metrics\n",
      "\tCalculating interaction metrics\n",
      "Processing turn 8/30\n",
      "\tFound RDF, cumulative: 10\n",
      "\tAdding triples\n",
      "\tCalculating graph metrics\n",
      "\tCalculating RDF graph metrics\n",
      "\tCalculating interaction metrics\n",
      "Processing turn 9/30\n",
      "\tFound RDF, cumulative: 11\n",
      "\tAdding triples\n",
      "\tCalculating graph metrics\n",
      "\tCalculating RDF graph metrics\n",
      "\tCalculating interaction metrics\n",
      "Processing turn 10/30\n",
      "\tFound RDF, cumulative: 12\n",
      "\tAdding triples\n",
      "\tCalculating graph metrics\n",
      "\tCalculating RDF graph metrics\n",
      "\tCalculating interaction metrics\n",
      "Processing turn 11/30\n",
      "\tFound RDF, cumulative: 13\n",
      "\tAdding triples\n",
      "\tCalculating graph metrics\n",
      "\tCalculating RDF graph metrics\n",
      "\tCalculating interaction metrics\n",
      "Processing turn 12/30\n",
      "\tFound RDF, cumulative: 14\n",
      "\tAdding triples\n",
      "\tCalculating graph metrics\n",
      "\tCalculating RDF graph metrics\n",
      "\tCalculating interaction metrics\n",
      "Processing turn 13/30\n",
      "\tFound RDF, cumulative: 15\n",
      "\tAdding triples\n",
      "\tCalculating graph metrics\n",
      "\tCalculating RDF graph metrics\n",
      "\tCalculating interaction metrics\n",
      "Processing turn 14/30\n",
      "\tFound RDF, cumulative: 16\n",
      "\tAdding triples\n",
      "\tCalculating graph metrics\n",
      "\tCalculating RDF graph metrics\n",
      "\tCalculating interaction metrics\n",
      "Processing turn 15/30\n",
      "\tFound RDF, cumulative: 17\n",
      "\tAdding triples\n",
      "\tCalculating graph metrics\n",
      "\tCalculating RDF graph metrics\n",
      "\tCalculating interaction metrics\n",
      "Processing turn 16/30\n",
      "\tFound RDF, cumulative: 18\n",
      "\tAdding triples\n",
      "\tCalculating graph metrics\n",
      "\tCalculating RDF graph metrics\n",
      "\tCalculating interaction metrics\n",
      "Processing turn 17/30\n",
      "\tFound RDF, cumulative: 19\n",
      "\tAdding triples\n",
      "\tCalculating graph metrics\n",
      "\tCalculating RDF graph metrics\n",
      "\tCalculating interaction metrics\n",
      "Processing turn 18/30\n",
      "\tFound RDF, cumulative: 20\n",
      "\tAdding triples\n",
      "\tCalculating graph metrics\n",
      "\tCalculating RDF graph metrics\n",
      "\tCalculating interaction metrics\n",
      "Processing turn 19/30\n",
      "\tFound RDF, cumulative: 21\n",
      "\tAdding triples\n",
      "\tCalculating graph metrics\n",
      "\tCalculating RDF graph metrics\n",
      "\tCalculating interaction metrics\n",
      "Processing turn 20/30\n",
      "\tFound RDF, cumulative: 22\n",
      "\tAdding triples\n",
      "\tCalculating graph metrics\n",
      "\tCalculating RDF graph metrics\n",
      "\tCalculating interaction metrics\n",
      "Processing turn 21/30\n",
      "\tFound RDF, cumulative: 23\n",
      "\tAdding triples\n",
      "\tCalculating graph metrics\n",
      "\tCalculating RDF graph metrics\n",
      "\tCalculating interaction metrics\n",
      "Processing turn 22/30\n",
      "\tFound RDF, cumulative: 24\n",
      "\tAdding triples\n",
      "\tCalculating graph metrics\n",
      "\tCalculating RDF graph metrics\n",
      "\tCalculating interaction metrics\n",
      "Processing turn 23/30\n",
      "\tFound RDF, cumulative: 25\n",
      "\tAdding triples\n",
      "\tCalculating graph metrics\n",
      "\tCalculating RDF graph metrics\n",
      "\tCalculating interaction metrics\n",
      "Processing turn 24/30\n",
      "\tFound RDF, cumulative: 26\n",
      "\tAdding triples\n",
      "\tCalculating graph metrics\n",
      "\tCalculating RDF graph metrics\n",
      "\tCalculating interaction metrics\n",
      "Processing turn 25/30\n",
      "\tFound RDF, cumulative: 27\n",
      "\tAdding triples\n",
      "\tCalculating graph metrics\n",
      "\tCalculating RDF graph metrics\n",
      "\tCalculating interaction metrics\n",
      "Processing turn 26/30\n",
      "\tFound RDF, cumulative: 28\n",
      "\tAdding triples\n",
      "\tCalculating graph metrics\n",
      "\tCalculating RDF graph metrics\n",
      "\tCalculating interaction metrics\n",
      "Processing turn 27/30\n",
      "\tFound RDF, cumulative: 29\n",
      "\tAdding triples\n",
      "\tCalculating graph metrics\n",
      "\tCalculating RDF graph metrics\n",
      "\tCalculating interaction metrics\n",
      "Processing turn 28/30\n",
      "\tFound RDF, cumulative: 30\n",
      "\tAdding triples\n",
      "\tCalculating graph metrics\n",
      "\tCalculating RDF graph metrics\n",
      "\tCalculating interaction metrics\n",
      "Processing turn 29/30\n",
      "\tFound RDF, cumulative: 31\n",
      "\tAdding triples\n",
      "\tCalculating graph metrics\n",
      "\tCalculating RDF graph metrics\n",
      "\tCalculating interaction metrics\n",
      "Processing turn 30/30\n",
      "\tFound RDF, cumulative: 32\n",
      "\tAdding triples\n",
      "\tCalculating graph metrics\n",
      "\tCalculating RDF graph metrics\n",
      "\tCalculating interaction metrics\n",
      "\n",
      "\tSaved to file: /Users/sbaez/Documents/PhD/research/thought-selection/resources/Ratio-conflicts-to-statements_1_dimitris/evaluation/graph_evaluation.csv\n",
      "/Users/sbaez/Documents/PhD/research/thought-selection/resources/Ratio-conflicts-to-statements_2_lea/2022-03-07-14-25\n",
      "----------SCENARIO:Ratio-conflicts-to-statements_2_lea, EVALUATION:graph metrics---------\n",
      "Processing turn 0/29\n",
      "\tFound RDF, cumulative: 1\n",
      "\tAdding triples\n",
      "\tCalculating graph metrics\n",
      "\tCalculating RDF graph metrics\n",
      "\tCalculating interaction metrics\n",
      "\tFound RDF, cumulative: 2\n",
      "\tAdding triples\n",
      "\tCalculating graph metrics\n",
      "\tCalculating RDF graph metrics\n",
      "\tCalculating interaction metrics\n",
      "Processing turn 1/29\n",
      "\tFound RDF, cumulative: 3\n",
      "\tAdding triples\n",
      "\tCalculating graph metrics\n",
      "\tCalculating RDF graph metrics\n",
      "\tCalculating interaction metrics\n",
      "Processing turn 2/29\n",
      "\tFound RDF, cumulative: 4\n",
      "\tAdding triples\n",
      "\tCalculating graph metrics\n",
      "\tCalculating RDF graph metrics\n",
      "\tCalculating interaction metrics\n",
      "Processing turn 3/29\n",
      "\tFound RDF, cumulative: 5\n",
      "\tAdding triples\n",
      "\tCalculating graph metrics\n",
      "\tCalculating RDF graph metrics\n",
      "\tCalculating interaction metrics\n",
      "Processing turn 4/29\n",
      "\tFound RDF, cumulative: 6\n",
      "\tAdding triples\n",
      "\tCalculating graph metrics\n",
      "\tCalculating RDF graph metrics\n",
      "\tCalculating interaction metrics\n",
      "Processing turn 5/29\n",
      "\tFound RDF, cumulative: 7\n",
      "\tAdding triples\n",
      "\tCalculating graph metrics\n",
      "\tCalculating RDF graph metrics\n",
      "\tCalculating interaction metrics\n",
      "Processing turn 6/29\n",
      "\tFound RDF, cumulative: 8\n",
      "\tAdding triples\n",
      "\tCalculating graph metrics\n",
      "\tCalculating RDF graph metrics\n",
      "\tCalculating interaction metrics\n",
      "Processing turn 7/29\n",
      "\tFound RDF, cumulative: 9\n",
      "\tAdding triples\n",
      "\tCalculating graph metrics\n",
      "\tCalculating RDF graph metrics\n",
      "\tCalculating interaction metrics\n",
      "Processing turn 8/29\n",
      "\tFound RDF, cumulative: 10\n",
      "\tAdding triples\n",
      "\tCalculating graph metrics\n",
      "\tCalculating RDF graph metrics\n",
      "\tCalculating interaction metrics\n",
      "Processing turn 9/29\n",
      "\tFound RDF, cumulative: 11\n",
      "\tAdding triples\n",
      "\tCalculating graph metrics\n",
      "\tCalculating RDF graph metrics\n",
      "\tCalculating interaction metrics\n",
      "Processing turn 10/29\n",
      "\tFound RDF, cumulative: 12\n",
      "\tAdding triples\n",
      "\tCalculating graph metrics\n",
      "\tCalculating RDF graph metrics\n",
      "\tCalculating interaction metrics\n",
      "Processing turn 11/29\n",
      "\tFound RDF, cumulative: 13\n",
      "\tAdding triples\n",
      "\tCalculating graph metrics\n",
      "\tCalculating RDF graph metrics\n",
      "\tCalculating interaction metrics\n",
      "Processing turn 12/29\n",
      "\tFound RDF, cumulative: 14\n",
      "\tAdding triples\n",
      "\tCalculating graph metrics\n",
      "\tCalculating RDF graph metrics\n",
      "\tCalculating interaction metrics\n",
      "Processing turn 13/29\n",
      "\tFound RDF, cumulative: 15\n",
      "\tAdding triples\n",
      "\tCalculating graph metrics\n",
      "\tCalculating RDF graph metrics\n",
      "\tCalculating interaction metrics\n",
      "Processing turn 14/29\n",
      "\tFound RDF, cumulative: 16\n",
      "\tAdding triples\n",
      "\tCalculating graph metrics\n",
      "\tCalculating RDF graph metrics\n",
      "\tCalculating interaction metrics\n",
      "Processing turn 15/29\n",
      "\tFound RDF, cumulative: 17\n",
      "\tAdding triples\n",
      "\tCalculating graph metrics\n",
      "\tCalculating RDF graph metrics\n",
      "\tCalculating interaction metrics\n",
      "Processing turn 16/29\n",
      "\tFound RDF, cumulative: 18\n",
      "\tAdding triples\n",
      "\tCalculating graph metrics\n",
      "\tCalculating RDF graph metrics\n",
      "\tCalculating interaction metrics\n",
      "Processing turn 17/29\n",
      "\tFound RDF, cumulative: 19\n",
      "\tAdding triples\n",
      "\tCalculating graph metrics\n",
      "\tCalculating RDF graph metrics\n",
      "\tCalculating interaction metrics\n",
      "Processing turn 18/29\n",
      "\tFound RDF, cumulative: 20\n",
      "\tAdding triples\n",
      "\tCalculating graph metrics\n",
      "\tCalculating RDF graph metrics\n",
      "\tCalculating interaction metrics\n",
      "Processing turn 19/29\n",
      "\tFound RDF, cumulative: 21\n",
      "\tAdding triples\n",
      "\tCalculating graph metrics\n",
      "\tCalculating RDF graph metrics\n",
      "\tCalculating interaction metrics\n",
      "Processing turn 20/29\n",
      "\tFound RDF, cumulative: 22\n",
      "\tAdding triples\n",
      "\tCalculating graph metrics\n",
      "\tCalculating RDF graph metrics\n",
      "\tCalculating interaction metrics\n",
      "Processing turn 21/29\n",
      "\tFound RDF, cumulative: 23\n",
      "\tAdding triples\n",
      "\tCalculating graph metrics\n",
      "\tCalculating RDF graph metrics\n",
      "\tCalculating interaction metrics\n",
      "Processing turn 22/29\n",
      "\tFound RDF, cumulative: 24\n",
      "\tAdding triples\n",
      "\tCalculating graph metrics\n",
      "\tCalculating RDF graph metrics\n",
      "\tCalculating interaction metrics\n",
      "Processing turn 23/29\n",
      "\tFound RDF, cumulative: 25\n",
      "\tAdding triples\n",
      "\tCalculating graph metrics\n",
      "\tCalculating RDF graph metrics\n",
      "\tCalculating interaction metrics\n",
      "Processing turn 24/29\n",
      "\tFound RDF, cumulative: 26\n",
      "\tAdding triples\n",
      "\tCalculating graph metrics\n",
      "\tCalculating RDF graph metrics\n",
      "\tCalculating interaction metrics\n",
      "Processing turn 25/29\n",
      "\tFound RDF, cumulative: 27\n",
      "\tAdding triples\n",
      "\tCalculating graph metrics\n",
      "\tCalculating RDF graph metrics\n",
      "\tCalculating interaction metrics\n",
      "Processing turn 26/29\n",
      "\tFound RDF, cumulative: 28\n",
      "\tAdding triples\n",
      "\tCalculating graph metrics\n",
      "\tCalculating RDF graph metrics\n",
      "\tCalculating interaction metrics\n",
      "Processing turn 27/29\n",
      "\tFound RDF, cumulative: 29\n",
      "\tAdding triples\n",
      "\tCalculating graph metrics\n",
      "\tCalculating RDF graph metrics\n",
      "\tCalculating interaction metrics\n",
      "Processing turn 28/29\n",
      "\tFound RDF, cumulative: 30\n",
      "\tAdding triples\n",
      "\tCalculating graph metrics\n",
      "\tCalculating RDF graph metrics\n",
      "\tCalculating interaction metrics\n",
      "Processing turn 29/29\n",
      "\tFound RDF, cumulative: 31\n",
      "\tAdding triples\n",
      "\tCalculating graph metrics\n",
      "\tCalculating RDF graph metrics\n",
      "\tCalculating interaction metrics\n",
      "\n",
      "\tSaved to file: /Users/sbaez/Documents/PhD/research/thought-selection/resources/Ratio-conflicts-to-statements_2_lea/evaluation/graph_evaluation.csv\n",
      "/Users/sbaez/Documents/PhD/research/thought-selection/resources/Ratio-perspectives-to-statements_1_thomas/2022-03-04-13-30\n",
      "----------SCENARIO:Ratio-perspectives-to-statements_1_thomas, EVALUATION:graph metrics---------\n",
      "Processing turn 0/25\n",
      "\tFound RDF, cumulative: 1\n",
      "\tAdding triples\n",
      "\tCalculating graph metrics\n",
      "\tCalculating RDF graph metrics\n",
      "\tCalculating interaction metrics\n",
      "\tFound RDF, cumulative: 2\n",
      "\tAdding triples\n",
      "\tCalculating graph metrics\n",
      "\tCalculating RDF graph metrics\n",
      "\tCalculating interaction metrics\n",
      "Processing turn 1/25\n",
      "\tFound RDF, cumulative: 3\n",
      "\tAdding triples\n",
      "\tCalculating graph metrics\n",
      "\tCalculating RDF graph metrics\n",
      "\tCalculating interaction metrics\n",
      "Processing turn 2/25\n",
      "\tFound RDF, cumulative: 4\n",
      "\tAdding triples\n",
      "\tCalculating graph metrics\n",
      "\tCalculating RDF graph metrics\n",
      "\tCalculating interaction metrics\n",
      "Processing turn 3/25\n",
      "\tFound RDF, cumulative: 5\n",
      "\tAdding triples\n",
      "\tCalculating graph metrics\n",
      "\tCalculating RDF graph metrics\n",
      "\tCalculating interaction metrics\n",
      "Processing turn 4/25\n",
      "\tFound RDF, cumulative: 6\n",
      "\tAdding triples\n",
      "\tCalculating graph metrics\n",
      "\tCalculating RDF graph metrics\n",
      "\tCalculating interaction metrics\n",
      "Processing turn 5/25\n",
      "\tFound RDF, cumulative: 7\n",
      "\tAdding triples\n",
      "\tCalculating graph metrics\n",
      "\tCalculating RDF graph metrics\n",
      "\tCalculating interaction metrics\n",
      "Processing turn 6/25\n",
      "\tFound RDF, cumulative: 8\n",
      "\tAdding triples\n",
      "\tCalculating graph metrics\n",
      "\tCalculating RDF graph metrics\n",
      "\tCalculating interaction metrics\n",
      "Processing turn 7/25\n",
      "\tFound RDF, cumulative: 9\n",
      "\tAdding triples\n",
      "\tCalculating graph metrics\n",
      "\tCalculating RDF graph metrics\n",
      "\tCalculating interaction metrics\n",
      "Processing turn 8/25\n",
      "\tFound RDF, cumulative: 10\n",
      "\tAdding triples\n",
      "\tCalculating graph metrics\n",
      "\tCalculating RDF graph metrics\n",
      "\tCalculating interaction metrics\n",
      "Processing turn 9/25\n",
      "\tFound RDF, cumulative: 11\n",
      "\tAdding triples\n",
      "\tCalculating graph metrics\n",
      "\tCalculating RDF graph metrics\n",
      "\tCalculating interaction metrics\n",
      "Processing turn 10/25\n",
      "\tFound RDF, cumulative: 12\n",
      "\tAdding triples\n",
      "\tCalculating graph metrics\n",
      "\tCalculating RDF graph metrics\n",
      "\tCalculating interaction metrics\n",
      "Processing turn 11/25\n",
      "\tFound RDF, cumulative: 13\n",
      "\tAdding triples\n",
      "\tCalculating graph metrics\n",
      "\tCalculating RDF graph metrics\n",
      "\tCalculating interaction metrics\n",
      "Processing turn 12/25\n",
      "\tFound RDF, cumulative: 14\n",
      "\tAdding triples\n",
      "\tCalculating graph metrics\n",
      "\tCalculating RDF graph metrics\n",
      "\tCalculating interaction metrics\n",
      "Processing turn 13/25\n",
      "\tFound RDF, cumulative: 15\n",
      "\tAdding triples\n",
      "\tCalculating graph metrics\n",
      "\tCalculating RDF graph metrics\n",
      "\tCalculating interaction metrics\n",
      "Processing turn 14/25\n",
      "\tFound RDF, cumulative: 16\n",
      "\tAdding triples\n",
      "\tCalculating graph metrics\n",
      "\tCalculating RDF graph metrics\n",
      "\tCalculating interaction metrics\n",
      "Processing turn 15/25\n",
      "\tFound RDF, cumulative: 17\n",
      "\tAdding triples\n",
      "\tCalculating graph metrics\n",
      "\tCalculating RDF graph metrics\n",
      "\tCalculating interaction metrics\n",
      "Processing turn 16/25\n",
      "\tFound RDF, cumulative: 18\n",
      "\tAdding triples\n",
      "\tCalculating graph metrics\n",
      "\tCalculating RDF graph metrics\n",
      "\tCalculating interaction metrics\n",
      "Processing turn 17/25\n",
      "\tFound RDF, cumulative: 19\n",
      "\tAdding triples\n",
      "\tCalculating graph metrics\n",
      "\tCalculating RDF graph metrics\n",
      "\tCalculating interaction metrics\n",
      "Processing turn 18/25\n",
      "\tFound RDF, cumulative: 20\n",
      "\tAdding triples\n",
      "\tCalculating graph metrics\n",
      "\tCalculating RDF graph metrics\n",
      "\tCalculating interaction metrics\n",
      "Processing turn 19/25\n",
      "\tFound RDF, cumulative: 21\n",
      "\tAdding triples\n",
      "\tCalculating graph metrics\n",
      "\tCalculating RDF graph metrics\n",
      "\tCalculating interaction metrics\n",
      "Processing turn 20/25\n",
      "\tFound RDF, cumulative: 22\n",
      "\tAdding triples\n",
      "\tCalculating graph metrics\n",
      "\tCalculating RDF graph metrics\n",
      "\tCalculating interaction metrics\n",
      "Processing turn 21/25\n",
      "\tFound RDF, cumulative: 23\n",
      "\tAdding triples\n",
      "\tCalculating graph metrics\n",
      "\tCalculating RDF graph metrics\n",
      "\tCalculating interaction metrics\n",
      "Processing turn 22/25\n",
      "\tFound RDF, cumulative: 24\n",
      "\tAdding triples\n",
      "\tCalculating graph metrics\n",
      "\tCalculating RDF graph metrics\n",
      "\tCalculating interaction metrics\n",
      "Processing turn 23/25\n",
      "\tFound RDF, cumulative: 25\n",
      "\tAdding triples\n",
      "\tCalculating graph metrics\n",
      "\tCalculating RDF graph metrics\n",
      "\tCalculating interaction metrics\n",
      "Processing turn 24/25\n",
      "\tFound RDF, cumulative: 26\n",
      "\tAdding triples\n",
      "\tCalculating graph metrics\n",
      "\tCalculating RDF graph metrics\n",
      "\tCalculating interaction metrics\n",
      "Processing turn 25/25\n",
      "\tFound RDF, cumulative: 27\n",
      "\tAdding triples\n",
      "\tCalculating graph metrics\n",
      "\tCalculating RDF graph metrics\n",
      "\tCalculating interaction metrics\n",
      "\n",
      "\tSaved to file: /Users/sbaez/Documents/PhD/research/thought-selection/resources/Ratio-perspectives-to-statements_1_thomas/evaluation/graph_evaluation.csv\n",
      "/Users/sbaez/Documents/PhD/research/thought-selection/resources/Ratio-perspectives-to-statements_2_piek/2022-03-07-15-17\n",
      "----------SCENARIO:Ratio-perspectives-to-statements_2_piek, EVALUATION:graph metrics---------\n",
      "Processing turn 0/32\n",
      "\tFound RDF, cumulative: 1\n",
      "\tAdding triples\n",
      "\tCalculating graph metrics\n",
      "\tCalculating RDF graph metrics\n",
      "\tCalculating interaction metrics\n",
      "\tFound RDF, cumulative: 2\n",
      "\tAdding triples\n",
      "\tCalculating graph metrics\n",
      "\tCalculating RDF graph metrics\n",
      "\tCalculating interaction metrics\n",
      "Processing turn 1/32\n",
      "\tFound RDF, cumulative: 3\n",
      "\tAdding triples\n",
      "\tCalculating graph metrics\n",
      "\tCalculating RDF graph metrics\n",
      "\tCalculating interaction metrics\n",
      "Processing turn 2/32\n",
      "\tFound RDF, cumulative: 4\n",
      "\tAdding triples\n",
      "\tCalculating graph metrics\n",
      "\tCalculating RDF graph metrics\n",
      "\tCalculating interaction metrics\n",
      "Processing turn 3/32\n",
      "\tFound RDF, cumulative: 5\n",
      "\tAdding triples\n",
      "\tCalculating graph metrics\n",
      "\tCalculating RDF graph metrics\n",
      "\tCalculating interaction metrics\n",
      "Processing turn 4/32\n",
      "\tFound RDF, cumulative: 6\n",
      "\tAdding triples\n",
      "\tCalculating graph metrics\n",
      "\tCalculating RDF graph metrics\n",
      "\tCalculating interaction metrics\n",
      "Processing turn 5/32\n",
      "\tFound RDF, cumulative: 7\n",
      "\tAdding triples\n",
      "\tCalculating graph metrics\n",
      "\tCalculating RDF graph metrics\n",
      "\tCalculating interaction metrics\n",
      "Processing turn 6/32\n",
      "\tFound RDF, cumulative: 8\n",
      "\tAdding triples\n",
      "\tCalculating graph metrics\n",
      "\tCalculating RDF graph metrics\n",
      "\tCalculating interaction metrics\n",
      "Processing turn 7/32\n",
      "\tFound RDF, cumulative: 9\n",
      "\tAdding triples\n",
      "\tCalculating graph metrics\n",
      "\tCalculating RDF graph metrics\n",
      "\tCalculating interaction metrics\n",
      "Processing turn 8/32\n",
      "\tFound RDF, cumulative: 10\n",
      "\tAdding triples\n",
      "\tCalculating graph metrics\n",
      "\tCalculating RDF graph metrics\n",
      "\tCalculating interaction metrics\n",
      "Processing turn 9/32\n",
      "\tFound RDF, cumulative: 11\n",
      "\tAdding triples\n",
      "\tCalculating graph metrics\n",
      "\tCalculating RDF graph metrics\n",
      "\tCalculating interaction metrics\n",
      "Processing turn 10/32\n",
      "\tFound RDF, cumulative: 12\n",
      "\tAdding triples\n",
      "\tCalculating graph metrics\n",
      "\tCalculating RDF graph metrics\n",
      "\tCalculating interaction metrics\n",
      "Processing turn 11/32\n",
      "\tFound RDF, cumulative: 13\n",
      "\tAdding triples\n",
      "\tCalculating graph metrics\n",
      "\tCalculating RDF graph metrics\n",
      "\tCalculating interaction metrics\n",
      "Processing turn 12/32\n",
      "\tFound RDF, cumulative: 14\n",
      "\tAdding triples\n",
      "\tCalculating graph metrics\n",
      "\tCalculating RDF graph metrics\n",
      "\tCalculating interaction metrics\n",
      "Processing turn 13/32\n",
      "\tFound RDF, cumulative: 15\n",
      "\tAdding triples\n",
      "\tCalculating graph metrics\n",
      "\tCalculating RDF graph metrics\n",
      "\tCalculating interaction metrics\n",
      "Processing turn 14/32\n",
      "\tFound RDF, cumulative: 16\n",
      "\tAdding triples\n",
      "\tCalculating graph metrics\n",
      "\tCalculating RDF graph metrics\n",
      "\tCalculating interaction metrics\n",
      "Processing turn 15/32\n",
      "\tFound RDF, cumulative: 17\n",
      "\tAdding triples\n",
      "\tCalculating graph metrics\n",
      "\tCalculating RDF graph metrics\n",
      "\tCalculating interaction metrics\n",
      "Processing turn 16/32\n",
      "\tFound RDF, cumulative: 18\n",
      "\tAdding triples\n",
      "\tCalculating graph metrics\n",
      "\tCalculating RDF graph metrics\n",
      "\tCalculating interaction metrics\n",
      "Processing turn 17/32\n",
      "\tFound RDF, cumulative: 19\n",
      "\tAdding triples\n",
      "\tCalculating graph metrics\n",
      "\tCalculating RDF graph metrics\n",
      "\tCalculating interaction metrics\n",
      "Processing turn 18/32\n",
      "\tFound RDF, cumulative: 20\n",
      "\tAdding triples\n",
      "\tCalculating graph metrics\n",
      "\tCalculating RDF graph metrics\n",
      "\tCalculating interaction metrics\n",
      "Processing turn 19/32\n",
      "\tFound RDF, cumulative: 21\n",
      "\tAdding triples\n",
      "\tCalculating graph metrics\n",
      "\tCalculating RDF graph metrics\n",
      "\tCalculating interaction metrics\n",
      "Processing turn 20/32\n",
      "\tFound RDF, cumulative: 22\n",
      "\tAdding triples\n",
      "\tCalculating graph metrics\n",
      "\tCalculating RDF graph metrics\n",
      "\tCalculating interaction metrics\n",
      "Processing turn 21/32\n",
      "\tFound RDF, cumulative: 23\n",
      "\tAdding triples\n",
      "\tCalculating graph metrics\n",
      "\tCalculating RDF graph metrics\n",
      "\tCalculating interaction metrics\n",
      "Processing turn 22/32\n",
      "\tFound RDF, cumulative: 24\n",
      "\tAdding triples\n",
      "\tCalculating graph metrics\n",
      "\tCalculating RDF graph metrics\n",
      "\tCalculating interaction metrics\n",
      "Processing turn 23/32\n",
      "\tFound RDF, cumulative: 25\n",
      "\tAdding triples\n",
      "\tCalculating graph metrics\n",
      "\tCalculating RDF graph metrics\n",
      "\tCalculating interaction metrics\n",
      "Processing turn 24/32\n",
      "\tFound RDF, cumulative: 26\n",
      "\tAdding triples\n",
      "\tCalculating graph metrics\n",
      "\tCalculating RDF graph metrics\n",
      "\tCalculating interaction metrics\n",
      "Processing turn 25/32\n",
      "\tFound RDF, cumulative: 27\n",
      "\tAdding triples\n",
      "\tCalculating graph metrics\n",
      "\tCalculating RDF graph metrics\n",
      "\tCalculating interaction metrics\n",
      "Processing turn 26/32\n",
      "\tFound RDF, cumulative: 28\n",
      "\tAdding triples\n",
      "\tCalculating graph metrics\n",
      "\tCalculating RDF graph metrics\n",
      "\tCalculating interaction metrics\n",
      "Processing turn 27/32\n",
      "\tFound RDF, cumulative: 29\n",
      "\tAdding triples\n",
      "\tCalculating graph metrics\n",
      "\tCalculating RDF graph metrics\n",
      "\tCalculating interaction metrics\n",
      "Processing turn 28/32\n",
      "\tFound RDF, cumulative: 30\n",
      "\tAdding triples\n",
      "\tCalculating graph metrics\n",
      "\tCalculating RDF graph metrics\n",
      "\tCalculating interaction metrics\n",
      "Processing turn 29/32\n",
      "\tFound RDF, cumulative: 31\n",
      "\tAdding triples\n",
      "\tCalculating graph metrics\n",
      "\tCalculating RDF graph metrics\n",
      "\tCalculating interaction metrics\n",
      "Processing turn 30/32\n",
      "\tFound RDF, cumulative: 32\n",
      "\tAdding triples\n",
      "\tCalculating graph metrics\n",
      "\tCalculating RDF graph metrics\n",
      "\tCalculating interaction metrics\n",
      "Processing turn 31/32\n",
      "\tFound RDF, cumulative: 33\n",
      "\tAdding triples\n",
      "\tCalculating graph metrics\n",
      "\tCalculating RDF graph metrics\n",
      "\tCalculating interaction metrics\n",
      "Processing turn 32/32\n",
      "\tFound RDF, cumulative: 34\n",
      "\tAdding triples\n",
      "\tCalculating graph metrics\n",
      "\tCalculating RDF graph metrics\n",
      "\tCalculating interaction metrics\n",
      "\n",
      "\tSaved to file: /Users/sbaez/Documents/PhD/research/thought-selection/resources/Ratio-perspectives-to-statements_2_piek/evaluation/graph_evaluation.csv\n"
     ]
    }
   ],
   "source": [
    "# Evaluate each conversation\n",
    "graph_evaluator = GraphEvaluator()\n",
    "print(RDF_FOLDERS_ALL_CONVOS)\n",
    "for SCENARIO_FOLDER in RDF_FOLDERS_ALL_CONVOS:\n",
    "    graph_evaluator.evaluate_conversation(SCENARIO_FOLDER.parent, rdf_folder=Path(SCENARIO_FOLDER))"
   ],
   "metadata": {
    "collapsed": false
   }
  },
  {
   "cell_type": "markdown",
   "source": [
    "## Accumulated episodic memories\n"
   ],
   "metadata": {
    "collapsed": false
   }
  },
  {
   "cell_type": "markdown",
   "source": [
    "### Create brains"
   ],
   "metadata": {
    "collapsed": false
   }
  },
  {
   "cell_type": "code",
   "execution_count": 5,
   "outputs": [
    {
     "name": "stdout",
     "output_type": "stream",
     "text": [
      "\n",
      "Create new brain: Total-triples\n",
      "\tAdding triples to brain: /Users/sbaez/Documents/PhD/research/thought-selection/resources/Total-triples_1_lea\n",
      "\tAdding triples to brain: /Users/sbaez/Documents/PhD/research/thought-selection/resources/Total-triples_2_tae\n",
      "\n",
      "Create new brain: Ratio-conflicts-to-triples\n",
      "\tAdding triples to brain: /Users/sbaez/Documents/PhD/research/thought-selection/resources/Ratio-conflicts-to-triples_1_piek\n",
      "\tAdding triples to brain: /Users/sbaez/Documents/PhD/research/thought-selection/resources/Ratio-conflicts-to-triples_2_thomas\n",
      "\n",
      "Create new brain: Ratio-conflicts-to-statements\n",
      "\tAdding triples to brain: /Users/sbaez/Documents/PhD/research/thought-selection/resources/Ratio-conflicts-to-statements_1_dimitris\n",
      "\tAdding triples to brain: /Users/sbaez/Documents/PhD/research/thought-selection/resources/Ratio-conflicts-to-statements_2_lea\n",
      "\n",
      "Create new brain: Ratio-perspectives-to-statements\n",
      "\tAdding triples to brain: /Users/sbaez/Documents/PhD/research/thought-selection/resources/Ratio-perspectives-to-statements_1_thomas\n",
      "\tAdding triples to brain: /Users/sbaez/Documents/PhD/research/thought-selection/resources/Ratio-perspectives-to-statements_2_piek\n",
      "\n",
      "Found 4 final graphs\n"
     ]
    }
   ],
   "source": [
    "brains_as_graph = []\n",
    "brains_as_netx = []\n",
    "graph_evaluator = GraphEvaluator()\n",
    "RDF_FOLDERS_ALL_CONVOS = []\n",
    "\n",
    "for rdf_folder in RDF_FOLDERS:\n",
    "    # Find folders relates to this reward condition\n",
    "    scenarios = rdf_folder.parent.parent\n",
    "    reward = rdf_folder.parent.stem.split('_')[0]\n",
    "    scenarios_with_reward = sorted([path for path in scenarios.glob(f'*{reward}*')])\n",
    "\n",
    "    # Create brain for this reward condition\n",
    "    print(f\"\\nCreate new brain: {reward}\")\n",
    "    brain_as_graph = ConjunctiveGraph()\n",
    "    brain_as_netx = None\n",
    "\n",
    "    for scenario in scenarios_with_reward:\n",
    "        # Read files from this conversation\n",
    "        scenario_rdf_folder = [f for f in scenario.iterdir() if f.is_dir() and f.stem[0].isdigit()][0]\n",
    "        files = sorted([path for path in scenario_rdf_folder.glob('*.trig')])\n",
    "\n",
    "        # Gather all folders for automatic evaluation of each conversation\n",
    "        RDF_FOLDERS_ALL_CONVOS.append(scenario_rdf_folder)\n",
    "\n",
    "        # Make directory per agent merging all conversations\n",
    "        evaluation_folder = Path(scenario_folder / 'evaluation/')\n",
    "        evaluation_folder.mkdir(parents=True, exist_ok=True)\n",
    "\n",
    "        print(f\"\\tAdding triples to brain: {files[-1].parent.parent}\")\n",
    "        brain_as_graph.parse(files[-1], format='trig')\n",
    "        brain_as_netx = rdflib_to_networkx_multidigraph(brain_as_graph)\n",
    "\n",
    "        # Calculate metrics (only when needed! otherwise copy row)\n",
    "        # full_df = graph_evaluator._calculate_metrics(brain_as_graph, brain_as_netx, full_df, idx)\n",
    "\n",
    "    brains_as_graph.append(brain_as_graph)\n",
    "    brains_as_netx.append(brain_as_netx)\n",
    "\n",
    "print(f\"\\nFound {len(brains_as_graph)} final graphs\")"
   ],
   "metadata": {
    "collapsed": false
   }
  },
  {
   "cell_type": "markdown",
   "source": [
    "### Score brains"
   ],
   "metadata": {
    "collapsed": false
   }
  },
  {
   "cell_type": "code",
   "execution_count": 11,
   "outputs": [],
   "source": [
    "def score_brains(brains_as_graph, brains_as_netx):\n",
    "    graphs_scores = []\n",
    "    for brain_as_graph, brain_as_netx in zip(brains_as_graph, brains_as_netx):\n",
    "        print(f\"\\nEvaluating brain\")\n",
    "\n",
    "        print(f\"\\tCrude statistics\")\n",
    "        turns = get_number_utterances(brain_as_graph)\n",
    "        print(f\"\\t\\tTurns: {turns}\")\n",
    "        claims = get_number_statements(brain_as_graph)\n",
    "        print(f\"\\t\\tClaims: {claims}\")\n",
    "        perspectives = get_number_perspectives(brain_as_graph)\n",
    "        print(f\"\\t\\tPerspectives: {perspectives}\")\n",
    "\n",
    "        print(f\"\\tGraph metrics\")\n",
    "        ad = get_avg_degree(brain_as_netx)\n",
    "        print(f\"\\t\\t{METRICS[0]}: {ad}\")\n",
    "        sp = get_shortest_path(brain_as_netx)\n",
    "        print(f\"\\t\\t{METRICS[1]}: {sp}\")\n",
    "        s = get_sparseness(brain_as_netx)\n",
    "        print(f\"\\t\\t{METRICS[2]}: {s}\")\n",
    "        nc = get_avg_degree_centr(brain_as_netx)\n",
    "        print(f\"\\t\\t{METRICS[3]}: {nc}\")\n",
    "        comp = get_number_strong_comp(brain_as_netx)\n",
    "        print(f\"\\t\\t{METRICS[4]}: {comp}\")\n",
    "\n",
    "        scores = [ad, nc, sp, comp, s]\n",
    "        graphs_scores.append(scores)\n",
    "\n",
    "    graphs_scores = np.array(graphs_scores)\n",
    "\n",
    "    return graphs_scores"
   ],
   "metadata": {
    "collapsed": false
   }
  },
  {
   "cell_type": "code",
   "execution_count": 12,
   "outputs": [
    {
     "name": "stdout",
     "output_type": "stream",
     "text": [
      "\n",
      "Evaluating brain\n",
      "\tCrude statistics\n",
      "\t\tTurns: 47\n",
      "\t\tClaims: 45\n",
      "\t\tPerspectives: 43\n",
      "\tGraph metrics\n",
      "\t\tAverage degree: 5.538548432646145\n",
      "\t\tShortest path: 2.7748566257317115\n",
      "\t\tSparseness: 0.0007811028927205342\n",
      "\t\tAverage degree centrality: 0.0015645617041373293\n",
      "\t\tNumber of strong components: 3266\n",
      "\n",
      "Evaluating brain\n",
      "\tCrude statistics\n",
      "\t\tTurns: 54\n",
      "\t\tClaims: 49\n",
      "\t\tPerspectives: 48\n",
      "\tGraph metrics\n",
      "\t\tAverage degree: 5.574527252502781\n",
      "\t\tShortest path: 2.776659479322653\n",
      "\t\tSparseness: 0.0007740184681780894\n",
      "\t\tAverage degree centrality: 0.0015506334499312327\n",
      "\t\tNumber of strong components: 3305\n",
      "\n",
      "Evaluating brain\n",
      "\tCrude statistics\n",
      "\t\tTurns: 61\n",
      "\t\tClaims: 56\n",
      "\t\tPerspectives: 55\n",
      "\tGraph metrics\n",
      "\t\tAverage degree: 5.549288208434058\n",
      "\t\tShortest path: 2.780774172986828\n",
      "\t\tSparseness: 0.0007444774369371193\n",
      "\t\tAverage degree centrality: 0.0014909425600306446\n",
      "\t\tNumber of strong components: 3384\n",
      "\n",
      "Evaluating brain\n",
      "\tCrude statistics\n",
      "\t\tTurns: 59\n",
      "\t\tClaims: 50\n",
      "\t\tPerspectives: 53\n",
      "\tGraph metrics\n",
      "\t\tAverage degree: 5.579868708971554\n",
      "\t\tShortest path: 2.7790552911396627\n",
      "\t\tSparseness: 0.0007619141101944467\n",
      "\t\tAverage degree centrality: 0.0015266398656556919\n",
      "\t\tNumber of strong components: 3345\n"
     ]
    }
   ],
   "source": [
    "graphs_scores = score_brains(brains_as_graph, brains_as_netx)"
   ],
   "metadata": {
    "collapsed": false
   }
  },
  {
   "cell_type": "code",
   "execution_count": 32,
   "outputs": [
    {
     "data": {
      "text/plain": "array([[5.53854843e+00, 1.56456170e-03, 2.77485663e+00, 3.26600000e+03,\n        7.81102893e-04],\n       [5.57452725e+00, 1.55063345e-03, 2.77665948e+00, 3.30500000e+03,\n        7.74018468e-04],\n       [5.54928821e+00, 1.49094256e-03, 2.78077417e+00, 3.38400000e+03,\n        7.44477437e-04],\n       [5.57986871e+00, 1.52663987e-03, 2.77905529e+00, 3.34500000e+03,\n        7.61914110e-04]])"
     },
     "execution_count": 32,
     "metadata": {},
     "output_type": "execute_result"
    }
   ],
   "source": [
    "graphs_scores"
   ],
   "metadata": {
    "collapsed": false
   }
  },
  {
   "cell_type": "markdown",
   "source": [
    "### Star Plot"
   ],
   "metadata": {
    "collapsed": false
   }
  },
  {
   "cell_type": "code",
   "execution_count": 30,
   "outputs": [],
   "source": [
    "def plot_spider_scores(graphs_scores, graph_ids):\n",
    "    scaler = MinMaxScaler()\n",
    "    scaled_graph_scores = scaler.fit_transform(graphs_scores)\n",
    "\n",
    "    fig = go.Figure()\n",
    "\n",
    "    for scores, id in zip(scaled_graph_scores, graph_ids):\n",
    "        fig.add_trace(go.Scatterpolar(r=scores,\n",
    "                                      theta=METRICS,\n",
    "                                      fill='toself',\n",
    "                                      name=f'{id}'))\n",
    "\n",
    "    fig.update_layout(polar=dict(radialaxis=dict(visible=True), ), showlegend=True)\n",
    "\n",
    "    fig.show()\n",
    "    fig.write_image(Path(DATA_FOLDER).resolve() / f'aggregation' / f'final_graph_starplot.png')\n"
   ],
   "metadata": {
    "collapsed": false
   }
  },
  {
   "cell_type": "code",
   "execution_count": 31,
   "outputs": [
    {
     "data": {
      "application/vnd.plotly.v1+json": {
       "data": [
        {
         "fill": "toself",
         "name": "Total-triples",
         "r": [
          0.0,
          1.0,
          0.0,
          0.0,
          1.0
         ],
         "theta": [
          "Average degree",
          "Shortest path",
          "Sparseness",
          "Average degree centrality",
          "Number of strong components"
         ],
         "type": "scatterpolar"
        },
        {
         "fill": "toself",
         "name": "Ratio-conflicts-to-triples",
         "r": [
          0.8707303787925582,
          0.8108066267938057,
          0.30466230571840924,
          0.3305084745762734,
          0.806571020321531
         ],
         "theta": [
          "Average degree",
          "Shortest path",
          "Sparseness",
          "Average degree centrality",
          "Number of strong components"
         ],
         "type": "scatterpolar"
        },
        {
         "fill": "toself",
         "name": "Ratio-conflicts-to-statements",
         "r": [
          0.25991539125573127,
          0.0,
          1.0,
          1.0,
          0.0
         ],
         "theta": [
          "Average degree",
          "Shortest path",
          "Sparseness",
          "Average degree centrality",
          "Number of strong components"
         ],
         "type": "scatterpolar"
        },
        {
         "fill": "toself",
         "name": "Ratio-perspectives-to-statements",
         "r": [
          1.0,
          0.4848916142425743,
          0.7095279897123987,
          0.6694915254237301,
          0.4760807172049759
         ],
         "theta": [
          "Average degree",
          "Shortest path",
          "Sparseness",
          "Average degree centrality",
          "Number of strong components"
         ],
         "type": "scatterpolar"
        }
       ],
       "layout": {
        "template": {
         "data": {
          "histogram2dcontour": [
           {
            "type": "histogram2dcontour",
            "colorbar": {
             "outlinewidth": 0,
             "ticks": ""
            },
            "colorscale": [
             [
              0.0,
              "#0d0887"
             ],
             [
              0.1111111111111111,
              "#46039f"
             ],
             [
              0.2222222222222222,
              "#7201a8"
             ],
             [
              0.3333333333333333,
              "#9c179e"
             ],
             [
              0.4444444444444444,
              "#bd3786"
             ],
             [
              0.5555555555555556,
              "#d8576b"
             ],
             [
              0.6666666666666666,
              "#ed7953"
             ],
             [
              0.7777777777777778,
              "#fb9f3a"
             ],
             [
              0.8888888888888888,
              "#fdca26"
             ],
             [
              1.0,
              "#f0f921"
             ]
            ]
           }
          ],
          "choropleth": [
           {
            "type": "choropleth",
            "colorbar": {
             "outlinewidth": 0,
             "ticks": ""
            }
           }
          ],
          "histogram2d": [
           {
            "type": "histogram2d",
            "colorbar": {
             "outlinewidth": 0,
             "ticks": ""
            },
            "colorscale": [
             [
              0.0,
              "#0d0887"
             ],
             [
              0.1111111111111111,
              "#46039f"
             ],
             [
              0.2222222222222222,
              "#7201a8"
             ],
             [
              0.3333333333333333,
              "#9c179e"
             ],
             [
              0.4444444444444444,
              "#bd3786"
             ],
             [
              0.5555555555555556,
              "#d8576b"
             ],
             [
              0.6666666666666666,
              "#ed7953"
             ],
             [
              0.7777777777777778,
              "#fb9f3a"
             ],
             [
              0.8888888888888888,
              "#fdca26"
             ],
             [
              1.0,
              "#f0f921"
             ]
            ]
           }
          ],
          "heatmap": [
           {
            "type": "heatmap",
            "colorbar": {
             "outlinewidth": 0,
             "ticks": ""
            },
            "colorscale": [
             [
              0.0,
              "#0d0887"
             ],
             [
              0.1111111111111111,
              "#46039f"
             ],
             [
              0.2222222222222222,
              "#7201a8"
             ],
             [
              0.3333333333333333,
              "#9c179e"
             ],
             [
              0.4444444444444444,
              "#bd3786"
             ],
             [
              0.5555555555555556,
              "#d8576b"
             ],
             [
              0.6666666666666666,
              "#ed7953"
             ],
             [
              0.7777777777777778,
              "#fb9f3a"
             ],
             [
              0.8888888888888888,
              "#fdca26"
             ],
             [
              1.0,
              "#f0f921"
             ]
            ]
           }
          ],
          "heatmapgl": [
           {
            "type": "heatmapgl",
            "colorbar": {
             "outlinewidth": 0,
             "ticks": ""
            },
            "colorscale": [
             [
              0.0,
              "#0d0887"
             ],
             [
              0.1111111111111111,
              "#46039f"
             ],
             [
              0.2222222222222222,
              "#7201a8"
             ],
             [
              0.3333333333333333,
              "#9c179e"
             ],
             [
              0.4444444444444444,
              "#bd3786"
             ],
             [
              0.5555555555555556,
              "#d8576b"
             ],
             [
              0.6666666666666666,
              "#ed7953"
             ],
             [
              0.7777777777777778,
              "#fb9f3a"
             ],
             [
              0.8888888888888888,
              "#fdca26"
             ],
             [
              1.0,
              "#f0f921"
             ]
            ]
           }
          ],
          "contourcarpet": [
           {
            "type": "contourcarpet",
            "colorbar": {
             "outlinewidth": 0,
             "ticks": ""
            }
           }
          ],
          "contour": [
           {
            "type": "contour",
            "colorbar": {
             "outlinewidth": 0,
             "ticks": ""
            },
            "colorscale": [
             [
              0.0,
              "#0d0887"
             ],
             [
              0.1111111111111111,
              "#46039f"
             ],
             [
              0.2222222222222222,
              "#7201a8"
             ],
             [
              0.3333333333333333,
              "#9c179e"
             ],
             [
              0.4444444444444444,
              "#bd3786"
             ],
             [
              0.5555555555555556,
              "#d8576b"
             ],
             [
              0.6666666666666666,
              "#ed7953"
             ],
             [
              0.7777777777777778,
              "#fb9f3a"
             ],
             [
              0.8888888888888888,
              "#fdca26"
             ],
             [
              1.0,
              "#f0f921"
             ]
            ]
           }
          ],
          "surface": [
           {
            "type": "surface",
            "colorbar": {
             "outlinewidth": 0,
             "ticks": ""
            },
            "colorscale": [
             [
              0.0,
              "#0d0887"
             ],
             [
              0.1111111111111111,
              "#46039f"
             ],
             [
              0.2222222222222222,
              "#7201a8"
             ],
             [
              0.3333333333333333,
              "#9c179e"
             ],
             [
              0.4444444444444444,
              "#bd3786"
             ],
             [
              0.5555555555555556,
              "#d8576b"
             ],
             [
              0.6666666666666666,
              "#ed7953"
             ],
             [
              0.7777777777777778,
              "#fb9f3a"
             ],
             [
              0.8888888888888888,
              "#fdca26"
             ],
             [
              1.0,
              "#f0f921"
             ]
            ]
           }
          ],
          "mesh3d": [
           {
            "type": "mesh3d",
            "colorbar": {
             "outlinewidth": 0,
             "ticks": ""
            }
           }
          ],
          "scatter": [
           {
            "marker": {
             "line": {
              "color": "#283442"
             }
            },
            "type": "scatter"
           }
          ],
          "parcoords": [
           {
            "type": "parcoords",
            "line": {
             "colorbar": {
              "outlinewidth": 0,
              "ticks": ""
             }
            }
           }
          ],
          "scatterpolargl": [
           {
            "type": "scatterpolargl",
            "marker": {
             "colorbar": {
              "outlinewidth": 0,
              "ticks": ""
             }
            }
           }
          ],
          "bar": [
           {
            "error_x": {
             "color": "#f2f5fa"
            },
            "error_y": {
             "color": "#f2f5fa"
            },
            "marker": {
             "line": {
              "color": "rgb(17,17,17)",
              "width": 0.5
             },
             "pattern": {
              "fillmode": "overlay",
              "size": 10,
              "solidity": 0.2
             }
            },
            "type": "bar"
           }
          ],
          "scattergeo": [
           {
            "type": "scattergeo",
            "marker": {
             "colorbar": {
              "outlinewidth": 0,
              "ticks": ""
             }
            }
           }
          ],
          "scatterpolar": [
           {
            "type": "scatterpolar",
            "marker": {
             "colorbar": {
              "outlinewidth": 0,
              "ticks": ""
             }
            }
           }
          ],
          "histogram": [
           {
            "marker": {
             "pattern": {
              "fillmode": "overlay",
              "size": 10,
              "solidity": 0.2
             }
            },
            "type": "histogram"
           }
          ],
          "scattergl": [
           {
            "marker": {
             "line": {
              "color": "#283442"
             }
            },
            "type": "scattergl"
           }
          ],
          "scatter3d": [
           {
            "type": "scatter3d",
            "line": {
             "colorbar": {
              "outlinewidth": 0,
              "ticks": ""
             }
            },
            "marker": {
             "colorbar": {
              "outlinewidth": 0,
              "ticks": ""
             }
            }
           }
          ],
          "scattermapbox": [
           {
            "type": "scattermapbox",
            "marker": {
             "colorbar": {
              "outlinewidth": 0,
              "ticks": ""
             }
            }
           }
          ],
          "scatterternary": [
           {
            "type": "scatterternary",
            "marker": {
             "colorbar": {
              "outlinewidth": 0,
              "ticks": ""
             }
            }
           }
          ],
          "scattercarpet": [
           {
            "type": "scattercarpet",
            "marker": {
             "colorbar": {
              "outlinewidth": 0,
              "ticks": ""
             }
            }
           }
          ],
          "carpet": [
           {
            "aaxis": {
             "endlinecolor": "#A2B1C6",
             "gridcolor": "#506784",
             "linecolor": "#506784",
             "minorgridcolor": "#506784",
             "startlinecolor": "#A2B1C6"
            },
            "baxis": {
             "endlinecolor": "#A2B1C6",
             "gridcolor": "#506784",
             "linecolor": "#506784",
             "minorgridcolor": "#506784",
             "startlinecolor": "#A2B1C6"
            },
            "type": "carpet"
           }
          ],
          "table": [
           {
            "cells": {
             "fill": {
              "color": "#506784"
             },
             "line": {
              "color": "rgb(17,17,17)"
             }
            },
            "header": {
             "fill": {
              "color": "#2a3f5f"
             },
             "line": {
              "color": "rgb(17,17,17)"
             }
            },
            "type": "table"
           }
          ],
          "barpolar": [
           {
            "marker": {
             "line": {
              "color": "rgb(17,17,17)",
              "width": 0.5
             },
             "pattern": {
              "fillmode": "overlay",
              "size": 10,
              "solidity": 0.2
             }
            },
            "type": "barpolar"
           }
          ],
          "pie": [
           {
            "automargin": true,
            "type": "pie"
           }
          ]
         },
         "layout": {
          "autotypenumbers": "strict",
          "colorway": [
           "#636efa",
           "#EF553B",
           "#00cc96",
           "#ab63fa",
           "#FFA15A",
           "#19d3f3",
           "#FF6692",
           "#B6E880",
           "#FF97FF",
           "#FECB52"
          ],
          "font": {
           "color": "#f2f5fa"
          },
          "hovermode": "closest",
          "hoverlabel": {
           "align": "left"
          },
          "paper_bgcolor": "rgb(17,17,17)",
          "plot_bgcolor": "rgb(17,17,17)",
          "polar": {
           "bgcolor": "rgb(17,17,17)",
           "angularaxis": {
            "gridcolor": "#506784",
            "linecolor": "#506784",
            "ticks": ""
           },
           "radialaxis": {
            "gridcolor": "#506784",
            "linecolor": "#506784",
            "ticks": ""
           }
          },
          "ternary": {
           "bgcolor": "rgb(17,17,17)",
           "aaxis": {
            "gridcolor": "#506784",
            "linecolor": "#506784",
            "ticks": ""
           },
           "baxis": {
            "gridcolor": "#506784",
            "linecolor": "#506784",
            "ticks": ""
           },
           "caxis": {
            "gridcolor": "#506784",
            "linecolor": "#506784",
            "ticks": ""
           }
          },
          "coloraxis": {
           "colorbar": {
            "outlinewidth": 0,
            "ticks": ""
           }
          },
          "colorscale": {
           "sequential": [
            [
             0.0,
             "#0d0887"
            ],
            [
             0.1111111111111111,
             "#46039f"
            ],
            [
             0.2222222222222222,
             "#7201a8"
            ],
            [
             0.3333333333333333,
             "#9c179e"
            ],
            [
             0.4444444444444444,
             "#bd3786"
            ],
            [
             0.5555555555555556,
             "#d8576b"
            ],
            [
             0.6666666666666666,
             "#ed7953"
            ],
            [
             0.7777777777777778,
             "#fb9f3a"
            ],
            [
             0.8888888888888888,
             "#fdca26"
            ],
            [
             1.0,
             "#f0f921"
            ]
           ],
           "sequentialminus": [
            [
             0.0,
             "#0d0887"
            ],
            [
             0.1111111111111111,
             "#46039f"
            ],
            [
             0.2222222222222222,
             "#7201a8"
            ],
            [
             0.3333333333333333,
             "#9c179e"
            ],
            [
             0.4444444444444444,
             "#bd3786"
            ],
            [
             0.5555555555555556,
             "#d8576b"
            ],
            [
             0.6666666666666666,
             "#ed7953"
            ],
            [
             0.7777777777777778,
             "#fb9f3a"
            ],
            [
             0.8888888888888888,
             "#fdca26"
            ],
            [
             1.0,
             "#f0f921"
            ]
           ],
           "diverging": [
            [
             0,
             "#8e0152"
            ],
            [
             0.1,
             "#c51b7d"
            ],
            [
             0.2,
             "#de77ae"
            ],
            [
             0.3,
             "#f1b6da"
            ],
            [
             0.4,
             "#fde0ef"
            ],
            [
             0.5,
             "#f7f7f7"
            ],
            [
             0.6,
             "#e6f5d0"
            ],
            [
             0.7,
             "#b8e186"
            ],
            [
             0.8,
             "#7fbc41"
            ],
            [
             0.9,
             "#4d9221"
            ],
            [
             1,
             "#276419"
            ]
           ]
          },
          "xaxis": {
           "gridcolor": "#283442",
           "linecolor": "#506784",
           "ticks": "",
           "title": {
            "standoff": 15
           },
           "zerolinecolor": "#283442",
           "automargin": true,
           "zerolinewidth": 2
          },
          "yaxis": {
           "gridcolor": "#283442",
           "linecolor": "#506784",
           "ticks": "",
           "title": {
            "standoff": 15
           },
           "zerolinecolor": "#283442",
           "automargin": true,
           "zerolinewidth": 2
          },
          "scene": {
           "xaxis": {
            "backgroundcolor": "rgb(17,17,17)",
            "gridcolor": "#506784",
            "linecolor": "#506784",
            "showbackground": true,
            "ticks": "",
            "zerolinecolor": "#C8D4E3",
            "gridwidth": 2
           },
           "yaxis": {
            "backgroundcolor": "rgb(17,17,17)",
            "gridcolor": "#506784",
            "linecolor": "#506784",
            "showbackground": true,
            "ticks": "",
            "zerolinecolor": "#C8D4E3",
            "gridwidth": 2
           },
           "zaxis": {
            "backgroundcolor": "rgb(17,17,17)",
            "gridcolor": "#506784",
            "linecolor": "#506784",
            "showbackground": true,
            "ticks": "",
            "zerolinecolor": "#C8D4E3",
            "gridwidth": 2
           }
          },
          "shapedefaults": {
           "line": {
            "color": "#f2f5fa"
           }
          },
          "annotationdefaults": {
           "arrowcolor": "#f2f5fa",
           "arrowhead": 0,
           "arrowwidth": 1
          },
          "geo": {
           "bgcolor": "rgb(17,17,17)",
           "landcolor": "rgb(17,17,17)",
           "subunitcolor": "#506784",
           "showland": true,
           "showlakes": true,
           "lakecolor": "rgb(17,17,17)"
          },
          "title": {
           "x": 0.05
          },
          "updatemenudefaults": {
           "bgcolor": "#506784",
           "borderwidth": 0
          },
          "sliderdefaults": {
           "bgcolor": "#C8D4E3",
           "borderwidth": 1,
           "bordercolor": "rgb(17,17,17)",
           "tickwidth": 0
          },
          "mapbox": {
           "style": "dark"
          }
         }
        },
        "polar": {
         "radialaxis": {
          "visible": true
         }
        },
        "showlegend": true
       },
       "config": {
        "plotlyServerURL": "https://plot.ly"
       }
      },
      "text/html": "<div>                            <div id=\"bce4ed34-047f-4fa6-9124-fe4473c720f3\" class=\"plotly-graph-div\" style=\"height:525px; width:100%;\"></div>            <script type=\"text/javascript\">                require([\"plotly\"], function(Plotly) {                    window.PLOTLYENV=window.PLOTLYENV || {};                                    if (document.getElementById(\"bce4ed34-047f-4fa6-9124-fe4473c720f3\")) {                    Plotly.newPlot(                        \"bce4ed34-047f-4fa6-9124-fe4473c720f3\",                        [{\"fill\":\"toself\",\"name\":\"Total-triples\",\"r\":[0.0,1.0,0.0,0.0,1.0],\"theta\":[\"Average degree\",\"Shortest path\",\"Sparseness\",\"Average degree centrality\",\"Number of strong components\"],\"type\":\"scatterpolar\"},{\"fill\":\"toself\",\"name\":\"Ratio-conflicts-to-triples\",\"r\":[0.8707303787925582,0.8108066267938057,0.30466230571840924,0.3305084745762734,0.806571020321531],\"theta\":[\"Average degree\",\"Shortest path\",\"Sparseness\",\"Average degree centrality\",\"Number of strong components\"],\"type\":\"scatterpolar\"},{\"fill\":\"toself\",\"name\":\"Ratio-conflicts-to-statements\",\"r\":[0.25991539125573127,0.0,1.0,1.0,0.0],\"theta\":[\"Average degree\",\"Shortest path\",\"Sparseness\",\"Average degree centrality\",\"Number of strong components\"],\"type\":\"scatterpolar\"},{\"fill\":\"toself\",\"name\":\"Ratio-perspectives-to-statements\",\"r\":[1.0,0.4848916142425743,0.7095279897123987,0.6694915254237301,0.4760807172049759],\"theta\":[\"Average degree\",\"Shortest path\",\"Sparseness\",\"Average degree centrality\",\"Number of strong components\"],\"type\":\"scatterpolar\"}],                        {\"template\":{\"data\":{\"histogram2dcontour\":[{\"type\":\"histogram2dcontour\",\"colorbar\":{\"outlinewidth\":0,\"ticks\":\"\"},\"colorscale\":[[0.0,\"#0d0887\"],[0.1111111111111111,\"#46039f\"],[0.2222222222222222,\"#7201a8\"],[0.3333333333333333,\"#9c179e\"],[0.4444444444444444,\"#bd3786\"],[0.5555555555555556,\"#d8576b\"],[0.6666666666666666,\"#ed7953\"],[0.7777777777777778,\"#fb9f3a\"],[0.8888888888888888,\"#fdca26\"],[1.0,\"#f0f921\"]]}],\"choropleth\":[{\"type\":\"choropleth\",\"colorbar\":{\"outlinewidth\":0,\"ticks\":\"\"}}],\"histogram2d\":[{\"type\":\"histogram2d\",\"colorbar\":{\"outlinewidth\":0,\"ticks\":\"\"},\"colorscale\":[[0.0,\"#0d0887\"],[0.1111111111111111,\"#46039f\"],[0.2222222222222222,\"#7201a8\"],[0.3333333333333333,\"#9c179e\"],[0.4444444444444444,\"#bd3786\"],[0.5555555555555556,\"#d8576b\"],[0.6666666666666666,\"#ed7953\"],[0.7777777777777778,\"#fb9f3a\"],[0.8888888888888888,\"#fdca26\"],[1.0,\"#f0f921\"]]}],\"heatmap\":[{\"type\":\"heatmap\",\"colorbar\":{\"outlinewidth\":0,\"ticks\":\"\"},\"colorscale\":[[0.0,\"#0d0887\"],[0.1111111111111111,\"#46039f\"],[0.2222222222222222,\"#7201a8\"],[0.3333333333333333,\"#9c179e\"],[0.4444444444444444,\"#bd3786\"],[0.5555555555555556,\"#d8576b\"],[0.6666666666666666,\"#ed7953\"],[0.7777777777777778,\"#fb9f3a\"],[0.8888888888888888,\"#fdca26\"],[1.0,\"#f0f921\"]]}],\"heatmapgl\":[{\"type\":\"heatmapgl\",\"colorbar\":{\"outlinewidth\":0,\"ticks\":\"\"},\"colorscale\":[[0.0,\"#0d0887\"],[0.1111111111111111,\"#46039f\"],[0.2222222222222222,\"#7201a8\"],[0.3333333333333333,\"#9c179e\"],[0.4444444444444444,\"#bd3786\"],[0.5555555555555556,\"#d8576b\"],[0.6666666666666666,\"#ed7953\"],[0.7777777777777778,\"#fb9f3a\"],[0.8888888888888888,\"#fdca26\"],[1.0,\"#f0f921\"]]}],\"contourcarpet\":[{\"type\":\"contourcarpet\",\"colorbar\":{\"outlinewidth\":0,\"ticks\":\"\"}}],\"contour\":[{\"type\":\"contour\",\"colorbar\":{\"outlinewidth\":0,\"ticks\":\"\"},\"colorscale\":[[0.0,\"#0d0887\"],[0.1111111111111111,\"#46039f\"],[0.2222222222222222,\"#7201a8\"],[0.3333333333333333,\"#9c179e\"],[0.4444444444444444,\"#bd3786\"],[0.5555555555555556,\"#d8576b\"],[0.6666666666666666,\"#ed7953\"],[0.7777777777777778,\"#fb9f3a\"],[0.8888888888888888,\"#fdca26\"],[1.0,\"#f0f921\"]]}],\"surface\":[{\"type\":\"surface\",\"colorbar\":{\"outlinewidth\":0,\"ticks\":\"\"},\"colorscale\":[[0.0,\"#0d0887\"],[0.1111111111111111,\"#46039f\"],[0.2222222222222222,\"#7201a8\"],[0.3333333333333333,\"#9c179e\"],[0.4444444444444444,\"#bd3786\"],[0.5555555555555556,\"#d8576b\"],[0.6666666666666666,\"#ed7953\"],[0.7777777777777778,\"#fb9f3a\"],[0.8888888888888888,\"#fdca26\"],[1.0,\"#f0f921\"]]}],\"mesh3d\":[{\"type\":\"mesh3d\",\"colorbar\":{\"outlinewidth\":0,\"ticks\":\"\"}}],\"scatter\":[{\"marker\":{\"line\":{\"color\":\"#283442\"}},\"type\":\"scatter\"}],\"parcoords\":[{\"type\":\"parcoords\",\"line\":{\"colorbar\":{\"outlinewidth\":0,\"ticks\":\"\"}}}],\"scatterpolargl\":[{\"type\":\"scatterpolargl\",\"marker\":{\"colorbar\":{\"outlinewidth\":0,\"ticks\":\"\"}}}],\"bar\":[{\"error_x\":{\"color\":\"#f2f5fa\"},\"error_y\":{\"color\":\"#f2f5fa\"},\"marker\":{\"line\":{\"color\":\"rgb(17,17,17)\",\"width\":0.5},\"pattern\":{\"fillmode\":\"overlay\",\"size\":10,\"solidity\":0.2}},\"type\":\"bar\"}],\"scattergeo\":[{\"type\":\"scattergeo\",\"marker\":{\"colorbar\":{\"outlinewidth\":0,\"ticks\":\"\"}}}],\"scatterpolar\":[{\"type\":\"scatterpolar\",\"marker\":{\"colorbar\":{\"outlinewidth\":0,\"ticks\":\"\"}}}],\"histogram\":[{\"marker\":{\"pattern\":{\"fillmode\":\"overlay\",\"size\":10,\"solidity\":0.2}},\"type\":\"histogram\"}],\"scattergl\":[{\"marker\":{\"line\":{\"color\":\"#283442\"}},\"type\":\"scattergl\"}],\"scatter3d\":[{\"type\":\"scatter3d\",\"line\":{\"colorbar\":{\"outlinewidth\":0,\"ticks\":\"\"}},\"marker\":{\"colorbar\":{\"outlinewidth\":0,\"ticks\":\"\"}}}],\"scattermapbox\":[{\"type\":\"scattermapbox\",\"marker\":{\"colorbar\":{\"outlinewidth\":0,\"ticks\":\"\"}}}],\"scatterternary\":[{\"type\":\"scatterternary\",\"marker\":{\"colorbar\":{\"outlinewidth\":0,\"ticks\":\"\"}}}],\"scattercarpet\":[{\"type\":\"scattercarpet\",\"marker\":{\"colorbar\":{\"outlinewidth\":0,\"ticks\":\"\"}}}],\"carpet\":[{\"aaxis\":{\"endlinecolor\":\"#A2B1C6\",\"gridcolor\":\"#506784\",\"linecolor\":\"#506784\",\"minorgridcolor\":\"#506784\",\"startlinecolor\":\"#A2B1C6\"},\"baxis\":{\"endlinecolor\":\"#A2B1C6\",\"gridcolor\":\"#506784\",\"linecolor\":\"#506784\",\"minorgridcolor\":\"#506784\",\"startlinecolor\":\"#A2B1C6\"},\"type\":\"carpet\"}],\"table\":[{\"cells\":{\"fill\":{\"color\":\"#506784\"},\"line\":{\"color\":\"rgb(17,17,17)\"}},\"header\":{\"fill\":{\"color\":\"#2a3f5f\"},\"line\":{\"color\":\"rgb(17,17,17)\"}},\"type\":\"table\"}],\"barpolar\":[{\"marker\":{\"line\":{\"color\":\"rgb(17,17,17)\",\"width\":0.5},\"pattern\":{\"fillmode\":\"overlay\",\"size\":10,\"solidity\":0.2}},\"type\":\"barpolar\"}],\"pie\":[{\"automargin\":true,\"type\":\"pie\"}]},\"layout\":{\"autotypenumbers\":\"strict\",\"colorway\":[\"#636efa\",\"#EF553B\",\"#00cc96\",\"#ab63fa\",\"#FFA15A\",\"#19d3f3\",\"#FF6692\",\"#B6E880\",\"#FF97FF\",\"#FECB52\"],\"font\":{\"color\":\"#f2f5fa\"},\"hovermode\":\"closest\",\"hoverlabel\":{\"align\":\"left\"},\"paper_bgcolor\":\"rgb(17,17,17)\",\"plot_bgcolor\":\"rgb(17,17,17)\",\"polar\":{\"bgcolor\":\"rgb(17,17,17)\",\"angularaxis\":{\"gridcolor\":\"#506784\",\"linecolor\":\"#506784\",\"ticks\":\"\"},\"radialaxis\":{\"gridcolor\":\"#506784\",\"linecolor\":\"#506784\",\"ticks\":\"\"}},\"ternary\":{\"bgcolor\":\"rgb(17,17,17)\",\"aaxis\":{\"gridcolor\":\"#506784\",\"linecolor\":\"#506784\",\"ticks\":\"\"},\"baxis\":{\"gridcolor\":\"#506784\",\"linecolor\":\"#506784\",\"ticks\":\"\"},\"caxis\":{\"gridcolor\":\"#506784\",\"linecolor\":\"#506784\",\"ticks\":\"\"}},\"coloraxis\":{\"colorbar\":{\"outlinewidth\":0,\"ticks\":\"\"}},\"colorscale\":{\"sequential\":[[0.0,\"#0d0887\"],[0.1111111111111111,\"#46039f\"],[0.2222222222222222,\"#7201a8\"],[0.3333333333333333,\"#9c179e\"],[0.4444444444444444,\"#bd3786\"],[0.5555555555555556,\"#d8576b\"],[0.6666666666666666,\"#ed7953\"],[0.7777777777777778,\"#fb9f3a\"],[0.8888888888888888,\"#fdca26\"],[1.0,\"#f0f921\"]],\"sequentialminus\":[[0.0,\"#0d0887\"],[0.1111111111111111,\"#46039f\"],[0.2222222222222222,\"#7201a8\"],[0.3333333333333333,\"#9c179e\"],[0.4444444444444444,\"#bd3786\"],[0.5555555555555556,\"#d8576b\"],[0.6666666666666666,\"#ed7953\"],[0.7777777777777778,\"#fb9f3a\"],[0.8888888888888888,\"#fdca26\"],[1.0,\"#f0f921\"]],\"diverging\":[[0,\"#8e0152\"],[0.1,\"#c51b7d\"],[0.2,\"#de77ae\"],[0.3,\"#f1b6da\"],[0.4,\"#fde0ef\"],[0.5,\"#f7f7f7\"],[0.6,\"#e6f5d0\"],[0.7,\"#b8e186\"],[0.8,\"#7fbc41\"],[0.9,\"#4d9221\"],[1,\"#276419\"]]},\"xaxis\":{\"gridcolor\":\"#283442\",\"linecolor\":\"#506784\",\"ticks\":\"\",\"title\":{\"standoff\":15},\"zerolinecolor\":\"#283442\",\"automargin\":true,\"zerolinewidth\":2},\"yaxis\":{\"gridcolor\":\"#283442\",\"linecolor\":\"#506784\",\"ticks\":\"\",\"title\":{\"standoff\":15},\"zerolinecolor\":\"#283442\",\"automargin\":true,\"zerolinewidth\":2},\"scene\":{\"xaxis\":{\"backgroundcolor\":\"rgb(17,17,17)\",\"gridcolor\":\"#506784\",\"linecolor\":\"#506784\",\"showbackground\":true,\"ticks\":\"\",\"zerolinecolor\":\"#C8D4E3\",\"gridwidth\":2},\"yaxis\":{\"backgroundcolor\":\"rgb(17,17,17)\",\"gridcolor\":\"#506784\",\"linecolor\":\"#506784\",\"showbackground\":true,\"ticks\":\"\",\"zerolinecolor\":\"#C8D4E3\",\"gridwidth\":2},\"zaxis\":{\"backgroundcolor\":\"rgb(17,17,17)\",\"gridcolor\":\"#506784\",\"linecolor\":\"#506784\",\"showbackground\":true,\"ticks\":\"\",\"zerolinecolor\":\"#C8D4E3\",\"gridwidth\":2}},\"shapedefaults\":{\"line\":{\"color\":\"#f2f5fa\"}},\"annotationdefaults\":{\"arrowcolor\":\"#f2f5fa\",\"arrowhead\":0,\"arrowwidth\":1},\"geo\":{\"bgcolor\":\"rgb(17,17,17)\",\"landcolor\":\"rgb(17,17,17)\",\"subunitcolor\":\"#506784\",\"showland\":true,\"showlakes\":true,\"lakecolor\":\"rgb(17,17,17)\"},\"title\":{\"x\":0.05},\"updatemenudefaults\":{\"bgcolor\":\"#506784\",\"borderwidth\":0},\"sliderdefaults\":{\"bgcolor\":\"#C8D4E3\",\"borderwidth\":1,\"bordercolor\":\"rgb(17,17,17)\",\"tickwidth\":0},\"mapbox\":{\"style\":\"dark\"}}},\"polar\":{\"radialaxis\":{\"visible\":true}},\"showlegend\":true},                        {\"responsive\": true}                    ).then(function(){\n                            \nvar gd = document.getElementById('bce4ed34-047f-4fa6-9124-fe4473c720f3');\nvar x = new MutationObserver(function (mutations, observer) {{\n        var display = window.getComputedStyle(gd).display;\n        if (!display || display === 'none') {{\n            console.log([gd, 'removed!']);\n            Plotly.purge(gd);\n            observer.disconnect();\n        }}\n}});\n\n// Listen for the removal of the full notebook cells\nvar notebookContainer = gd.closest('#notebook-container');\nif (notebookContainer) {{\n    x.observe(notebookContainer, {childList: true});\n}}\n\n// Listen for the clearing of the current output cell\nvar outputEl = gd.closest('.output');\nif (outputEl) {{\n    x.observe(outputEl, {childList: true});\n}}\n\n                        })                };                });            </script>        </div>"
     },
     "metadata": {},
     "output_type": "display_data"
    }
   ],
   "source": [
    "plot_spider_scores(graphs_scores, CONVO_IDS)"
   ],
   "metadata": {
    "collapsed": false
   }
  },
  {
   "cell_type": "code",
   "execution_count": 10,
   "outputs": [
    {
     "name": "stderr",
     "output_type": "stream",
     "text": [
      "2023-01-09 04:33:40 -     INFO -                             cltl.dialogue_evaluation.Plotter - Booted\n"
     ]
    },
    {
     "name": "stdout",
     "output_type": "stream",
     "text": [
      "Plotting metric GROUP A - Average degree\n",
      "Plotting metric GROUP A - Sparseness\n",
      "Plotting metric GROUP A - Number of components\n",
      "Plotting metric GROUP A - Centrality entropy\n",
      "Plotting metric GROUP B - Average population\n"
     ]
    }
   ],
   "source": [
    "\n",
    "from cltl.dialogue_evaluation.metrics_plotting import Plotter\n",
    "\n",
    "plotter = Plotter()\n",
    "plotter.plot_conversations(Path(DATA_FOLDER) / 'pilot',\n",
    "                           metrics=['GROUP A - Average degree', 'GROUP A - Sparseness',\n",
    "                                    # 'GROUP A - Shortest path',\n",
    "                                    'GROUP A - Number of components', 'GROUP A - Centrality entropy',\n",
    "                                    'GROUP B - Average population'])"
   ],
   "metadata": {
    "collapsed": false
   }
  },
  {
   "cell_type": "markdown",
   "source": [
    "## Utility estimates"
   ],
   "metadata": {
    "collapsed": false
   }
  },
  {
   "cell_type": "markdown",
   "source": [
    "### Read policies"
   ],
   "metadata": {
    "collapsed": false
   }
  },
  {
   "cell_type": "code",
   "execution_count": null,
   "outputs": [],
   "source": [
    "types_dfs, content_dfs = [], []\n",
    "for rdf_folder, id in zip(RDF_FOLDERS, CONVO_IDS):\n",
    "    thoughts_file = rdf_folder.parent / \"thoughts.json\"\n",
    "    with open(thoughts_file, \"r\") as file:\n",
    "        data = json.load(file)\n",
    "\n",
    "    df = pd.DataFrame(data[\"data\"])\n",
    "\n",
    "    # Filter columns\n",
    "    missing_columns = [col for col in THOUGHT_TYPES if col not in df.columns]\n",
    "    for col in missing_columns:\n",
    "        df[col] = 0\n",
    "    types_df = df[THOUGHT_TYPES]\n",
    "    content_df = df.drop(THOUGHT_TYPES, axis=1)\n",
    "\n",
    "    # Merge statement novelties\n",
    "    types_df['statement_novelty'] = types_df['statement_novelty'] + types_df['no_statement_novelty']\n",
    "    types_df.drop('no_statement_novelty', axis=1, inplace=True)\n",
    "\n",
    "    types_dfs.append(types_df)\n",
    "    content_dfs.append(content_df)"
   ],
   "metadata": {
    "collapsed": false
   }
  },
  {
   "cell_type": "markdown",
   "source": [
    "### Pie plot"
   ],
   "metadata": {
    "collapsed": false
   }
  },
  {
   "cell_type": "code",
   "execution_count": null,
   "outputs": [],
   "source": [
    "def plot_pie_counts(dfs):\n",
    "    fig, axes = plt.subplots(1, 4, figsize=(12, 12))\n",
    "    labels = THOUGHT_TYPES\n",
    "    if 'no_statement_novelty' in labels:\n",
    "        labels.remove('no_statement_novelty')\n",
    "\n",
    "    for idx, df in enumerate(dfs):\n",
    "        def fmt(x):\n",
    "            total = df.loc['count'].sum()\n",
    "            return '{:.1f}% ({:.0f})'.format(x, total * x / 100)\n",
    "\n",
    "        # Plot\n",
    "        # ax = axes[idx // 2, idx % 2]\n",
    "        ax = axes[idx]\n",
    "        fig.add_subplot(ax)\n",
    "        plt.pie(df.loc['count'], autopct=fmt, textprops={'fontsize': 9})\n",
    "\n",
    "        # Format plot\n",
    "        ax.set_title(CONVO_IDS[idx])\n",
    "        fig.subplots_adjust(wspace=.01, hspace=.01)\n",
    "        plt.axis('off')\n",
    "\n",
    "    fig.legend(labels, loc=\"center left\")\n",
    "\n",
    "    # fig.show()\n",
    "    fig.savefig(Path(DATA_FOLDER).resolve() / f'aggregation' / f'thought_types_piechart.png', dpi=300,\n",
    "                transparent=False,\n",
    "                bbox_inches='tight')\n",
    "    # plt.close()\n"
   ],
   "metadata": {
    "collapsed": false
   }
  },
  {
   "cell_type": "code",
   "execution_count": null,
   "outputs": [],
   "source": [
    "plot_pie_counts(types_dfs)"
   ],
   "metadata": {
    "collapsed": false
   }
  },
  {
   "cell_type": "code",
   "execution_count": null,
   "outputs": [],
   "source": [
    "def plot_bar_utility(content_dfs):\n",
    "    # Massage data\n",
    "    agg_df = pd.DataFrame()\n",
    "    for id, content_df in zip(CONVO_IDS, content_dfs):\n",
    "        if len(agg_df) == 0:\n",
    "            agg_df[id] = content_df.loc['value']\n",
    "        else:\n",
    "            agg_df = pd.concat([agg_df, content_df.loc['value']], axis=1)\n",
    "            agg_df.rename(columns={'value': id}, inplace=True)\n",
    "\n",
    "    # Scale cause not all rewards are on the same range\n",
    "    scaler = MinMaxScaler()  #MaxAbsScaler()\n",
    "    scaled = pd.DataFrame(scaler.fit_transform(agg_df), columns=agg_df.columns)\n",
    "\n",
    "    # Prepare for plotting\n",
    "    scaled['Action'] = agg_df.index\n",
    "    scaled = scaled.sort_index(key=scaled.sum(1).get, ascending=False)\n",
    "    df1 = pd.melt(scaled, id_vars=['Action'])\n",
    "\n",
    "    # Plot\n",
    "    fig = plt.figure(figsize=(10, 5), tight_layout=True)\n",
    "    plt.ylabel(\"$Value$ $(Q)$\")\n",
    "    plt.xlabel(\"$Actions$ $(a)$\")\n",
    "    plt.xticks(rotation=45, ha=\"right\")\n",
    "    # fig.legend(loc=\"center left\")\n",
    "\n",
    "    sns.barplot(x='Action', y='value', hue='variable', data=df1)\n",
    "    fig.savefig(Path(DATA_FOLDER).resolve() / f'aggregation' / f'thought_content_barchart.png', dpi=300,\n",
    "                transparent=False,\n",
    "                bbox_inches='tight')\n"
   ],
   "metadata": {
    "collapsed": false
   }
  },
  {
   "cell_type": "code",
   "execution_count": null,
   "outputs": [],
   "source": [
    "plot_bar_utility(content_dfs)"
   ],
   "metadata": {
    "collapsed": false
   }
  },
  {
   "cell_type": "code",
   "execution_count": null,
   "outputs": [],
   "source": [],
   "metadata": {
    "collapsed": false
   }
  }
 ],
 "metadata": {
  "kernelspec": {
   "display_name": "Python 3",
   "language": "python",
   "name": "python3"
  },
  "language_info": {
   "codemirror_mode": {
    "name": "ipython",
    "version": 2
   },
   "file_extension": ".py",
   "mimetype": "text/x-python",
   "name": "python",
   "nbconvert_exporter": "python",
   "pygments_lexer": "ipython2",
   "version": "2.7.6"
  }
 },
 "nbformat": 4,
 "nbformat_minor": 0
}
